{
 "cells": [
  {
   "cell_type": "markdown",
   "id": "assigned-support",
   "metadata": {},
   "source": [
    "# Lending Club Case Study"
   ]
  },
  {
   "cell_type": "markdown",
   "id": "medium-absorption",
   "metadata": {},
   "source": [
    "## Business Objectives\n",
    "Like most other lending companies, lending loans to ‘risky’ applicants is the largest source of financial loss (called credit loss). The credit loss is the amount of money lost by the lender when the borrower refuses to pay or runs away with the money owed. In other words, borrowers who default cause the largest amount of loss to the lenders. In this case, the customers labelled as 'charged-off' are the 'defaulters'. \n",
    "\n",
    "If one is able to identify these risky loan applicants, then such loans can be reduced thereby cutting down the amount of credit loss. \n",
    "### Identification of such applicants using EDA is the aim of this case study.\n",
    "\n",
    "### Important\n",
    "In other words, the company wants to understand the driving factors (or driver variables) behind loan default, i.e. the variables which are strong indicators of default.  The company can utilise this knowledge for its portfolio and risk assessment. "
   ]
  },
  {
   "cell_type": "code",
   "execution_count": 1,
   "id": "neural-nursing",
   "metadata": {},
   "outputs": [],
   "source": [
    "#loading required Libraries\n",
    "import pandas as pd\n",
    "import seaborn as sns\n",
    "import numpy as np\n",
    "from datetime import datetime\n",
    "import matplotlib.pyplot as plt\n",
    "\n",
    "# Adding library to ignore warnings\n",
    "import warnings\n",
    "warnings.filterwarnings('ignore')"
   ]
  },
  {
   "cell_type": "markdown",
   "id": "announced-dialogue",
   "metadata": {},
   "source": [
    "## Data Sourcing\n",
    "Data has been procured from online loan marketplace firm and It contains the complete loan data for all loans issued through the time period 2007 t0 2011."
   ]
  },
  {
   "cell_type": "code",
   "execution_count": 2,
   "id": "pointed-startup",
   "metadata": {
    "scrolled": true
   },
   "outputs": [],
   "source": [
    "# Loading data in to Data frames\n",
    "\n",
    "loan_df = pd.read_csv(\"loan.csv\")\n",
    "data_dictionary_df = pd.read_excel(\"Data_Dictionary.xlsx\")"
   ]
  },
  {
   "cell_type": "markdown",
   "id": "proper-investing",
   "metadata": {},
   "source": [
    "## Understanding Data\n",
    "Based on Initital Basic Data Analysis on loan sheet Columns wrt data Dictionary, Following #55 Columns can be useful to Fulfill Business Objective out of Total Columns Avalable:\n",
    "\n",
    "* acc_now_delinq * acc_open_past_24mths * addr_state * annual_inc *  annual_inc_joint * application_type * avg_cur_bal\n",
    "* collection_recovery_fee * delinq_2yrs * dti * dti_joint * earliest_cr_line * emp_length * grade * home_ownership \n",
    "* inq_last_6mths * installment * int_rate * issue_d * initial_list_status * loan_amnt * loan_status * max_bal_bc\n",
    "* mo_sin_old_il_acct * mo_sin_old_rev_tl_op * mort_acc * mths_since_last_delinq * mths_since_last_major_derog\n",
    "* mths_since_recent_revol_delinq * num_accts_ever_120_pd * num_actv_bc_tl * num_actv_rev_tl * num_bc_sats * num_bc_tl\n",
    "* num_il_tl * open_acc * open_il_12m * open_il_24m * open_il_6m * out_prncp * out_prncp_inv * pct_tl_nvr_dlq * percent_bc_gt_75\n",
    "* policy_code * pub_rec * pub_rec_bankruptcies * purpose * pymnt_plan * sub_grade * tax_liens * term * title\n",
    "* verification_status * verified_status_joint"
   ]
  },
  {
   "cell_type": "code",
   "execution_count": 3,
   "id": "rocky-exhaust",
   "metadata": {
    "scrolled": true
   },
   "outputs": [
    {
     "name": "stdout",
     "output_type": "stream",
     "text": [
      "<class 'pandas.core.frame.DataFrame'>\n",
      "RangeIndex: 39717 entries, 0 to 39716\n",
      "Columns: 111 entries, id to total_il_high_credit_limit\n",
      "dtypes: float64(74), int64(13), object(24)\n",
      "memory usage: 33.6+ MB\n"
     ]
    }
   ],
   "source": [
    "#get Details of Data and columns\n",
    "loan_df.info()"
   ]
  },
  {
   "cell_type": "markdown",
   "id": "shaped-proposition",
   "metadata": {},
   "source": [
    "### Table View of Data (Some rows and all columns)"
   ]
  },
  {
   "cell_type": "code",
   "execution_count": 4,
   "id": "another-fourth",
   "metadata": {
    "scrolled": false
   },
   "outputs": [
    {
     "data": {
      "text/html": [
       "<div>\n",
       "<style scoped>\n",
       "    .dataframe tbody tr th:only-of-type {\n",
       "        vertical-align: middle;\n",
       "    }\n",
       "\n",
       "    .dataframe tbody tr th {\n",
       "        vertical-align: top;\n",
       "    }\n",
       "\n",
       "    .dataframe thead th {\n",
       "        text-align: right;\n",
       "    }\n",
       "</style>\n",
       "<table border=\"1\" class=\"dataframe\">\n",
       "  <thead>\n",
       "    <tr style=\"text-align: right;\">\n",
       "      <th></th>\n",
       "      <th>id</th>\n",
       "      <th>member_id</th>\n",
       "      <th>loan_amnt</th>\n",
       "      <th>funded_amnt</th>\n",
       "      <th>funded_amnt_inv</th>\n",
       "      <th>term</th>\n",
       "      <th>int_rate</th>\n",
       "      <th>installment</th>\n",
       "      <th>grade</th>\n",
       "      <th>sub_grade</th>\n",
       "      <th>...</th>\n",
       "      <th>num_tl_90g_dpd_24m</th>\n",
       "      <th>num_tl_op_past_12m</th>\n",
       "      <th>pct_tl_nvr_dlq</th>\n",
       "      <th>percent_bc_gt_75</th>\n",
       "      <th>pub_rec_bankruptcies</th>\n",
       "      <th>tax_liens</th>\n",
       "      <th>tot_hi_cred_lim</th>\n",
       "      <th>total_bal_ex_mort</th>\n",
       "      <th>total_bc_limit</th>\n",
       "      <th>total_il_high_credit_limit</th>\n",
       "    </tr>\n",
       "  </thead>\n",
       "  <tbody>\n",
       "    <tr>\n",
       "      <th>0</th>\n",
       "      <td>1077501</td>\n",
       "      <td>1296599</td>\n",
       "      <td>5000</td>\n",
       "      <td>5000</td>\n",
       "      <td>4975.0</td>\n",
       "      <td>36 months</td>\n",
       "      <td>10.65%</td>\n",
       "      <td>162.87</td>\n",
       "      <td>B</td>\n",
       "      <td>B2</td>\n",
       "      <td>...</td>\n",
       "      <td>NaN</td>\n",
       "      <td>NaN</td>\n",
       "      <td>NaN</td>\n",
       "      <td>NaN</td>\n",
       "      <td>0.0</td>\n",
       "      <td>0.0</td>\n",
       "      <td>NaN</td>\n",
       "      <td>NaN</td>\n",
       "      <td>NaN</td>\n",
       "      <td>NaN</td>\n",
       "    </tr>\n",
       "    <tr>\n",
       "      <th>1</th>\n",
       "      <td>1077430</td>\n",
       "      <td>1314167</td>\n",
       "      <td>2500</td>\n",
       "      <td>2500</td>\n",
       "      <td>2500.0</td>\n",
       "      <td>60 months</td>\n",
       "      <td>15.27%</td>\n",
       "      <td>59.83</td>\n",
       "      <td>C</td>\n",
       "      <td>C4</td>\n",
       "      <td>...</td>\n",
       "      <td>NaN</td>\n",
       "      <td>NaN</td>\n",
       "      <td>NaN</td>\n",
       "      <td>NaN</td>\n",
       "      <td>0.0</td>\n",
       "      <td>0.0</td>\n",
       "      <td>NaN</td>\n",
       "      <td>NaN</td>\n",
       "      <td>NaN</td>\n",
       "      <td>NaN</td>\n",
       "    </tr>\n",
       "    <tr>\n",
       "      <th>2</th>\n",
       "      <td>1077175</td>\n",
       "      <td>1313524</td>\n",
       "      <td>2400</td>\n",
       "      <td>2400</td>\n",
       "      <td>2400.0</td>\n",
       "      <td>36 months</td>\n",
       "      <td>15.96%</td>\n",
       "      <td>84.33</td>\n",
       "      <td>C</td>\n",
       "      <td>C5</td>\n",
       "      <td>...</td>\n",
       "      <td>NaN</td>\n",
       "      <td>NaN</td>\n",
       "      <td>NaN</td>\n",
       "      <td>NaN</td>\n",
       "      <td>0.0</td>\n",
       "      <td>0.0</td>\n",
       "      <td>NaN</td>\n",
       "      <td>NaN</td>\n",
       "      <td>NaN</td>\n",
       "      <td>NaN</td>\n",
       "    </tr>\n",
       "    <tr>\n",
       "      <th>3</th>\n",
       "      <td>1076863</td>\n",
       "      <td>1277178</td>\n",
       "      <td>10000</td>\n",
       "      <td>10000</td>\n",
       "      <td>10000.0</td>\n",
       "      <td>36 months</td>\n",
       "      <td>13.49%</td>\n",
       "      <td>339.31</td>\n",
       "      <td>C</td>\n",
       "      <td>C1</td>\n",
       "      <td>...</td>\n",
       "      <td>NaN</td>\n",
       "      <td>NaN</td>\n",
       "      <td>NaN</td>\n",
       "      <td>NaN</td>\n",
       "      <td>0.0</td>\n",
       "      <td>0.0</td>\n",
       "      <td>NaN</td>\n",
       "      <td>NaN</td>\n",
       "      <td>NaN</td>\n",
       "      <td>NaN</td>\n",
       "    </tr>\n",
       "    <tr>\n",
       "      <th>4</th>\n",
       "      <td>1075358</td>\n",
       "      <td>1311748</td>\n",
       "      <td>3000</td>\n",
       "      <td>3000</td>\n",
       "      <td>3000.0</td>\n",
       "      <td>60 months</td>\n",
       "      <td>12.69%</td>\n",
       "      <td>67.79</td>\n",
       "      <td>B</td>\n",
       "      <td>B5</td>\n",
       "      <td>...</td>\n",
       "      <td>NaN</td>\n",
       "      <td>NaN</td>\n",
       "      <td>NaN</td>\n",
       "      <td>NaN</td>\n",
       "      <td>0.0</td>\n",
       "      <td>0.0</td>\n",
       "      <td>NaN</td>\n",
       "      <td>NaN</td>\n",
       "      <td>NaN</td>\n",
       "      <td>NaN</td>\n",
       "    </tr>\n",
       "  </tbody>\n",
       "</table>\n",
       "<p>5 rows × 111 columns</p>\n",
       "</div>"
      ],
      "text/plain": [
       "        id  member_id  loan_amnt  funded_amnt  funded_amnt_inv        term  \\\n",
       "0  1077501    1296599       5000         5000           4975.0   36 months   \n",
       "1  1077430    1314167       2500         2500           2500.0   60 months   \n",
       "2  1077175    1313524       2400         2400           2400.0   36 months   \n",
       "3  1076863    1277178      10000        10000          10000.0   36 months   \n",
       "4  1075358    1311748       3000         3000           3000.0   60 months   \n",
       "\n",
       "  int_rate  installment grade sub_grade  ... num_tl_90g_dpd_24m  \\\n",
       "0   10.65%       162.87     B        B2  ...                NaN   \n",
       "1   15.27%        59.83     C        C4  ...                NaN   \n",
       "2   15.96%        84.33     C        C5  ...                NaN   \n",
       "3   13.49%       339.31     C        C1  ...                NaN   \n",
       "4   12.69%        67.79     B        B5  ...                NaN   \n",
       "\n",
       "  num_tl_op_past_12m pct_tl_nvr_dlq  percent_bc_gt_75 pub_rec_bankruptcies  \\\n",
       "0                NaN            NaN               NaN                  0.0   \n",
       "1                NaN            NaN               NaN                  0.0   \n",
       "2                NaN            NaN               NaN                  0.0   \n",
       "3                NaN            NaN               NaN                  0.0   \n",
       "4                NaN            NaN               NaN                  0.0   \n",
       "\n",
       "  tax_liens tot_hi_cred_lim total_bal_ex_mort total_bc_limit  \\\n",
       "0       0.0             NaN               NaN            NaN   \n",
       "1       0.0             NaN               NaN            NaN   \n",
       "2       0.0             NaN               NaN            NaN   \n",
       "3       0.0             NaN               NaN            NaN   \n",
       "4       0.0             NaN               NaN            NaN   \n",
       "\n",
       "  total_il_high_credit_limit  \n",
       "0                        NaN  \n",
       "1                        NaN  \n",
       "2                        NaN  \n",
       "3                        NaN  \n",
       "4                        NaN  \n",
       "\n",
       "[5 rows x 111 columns]"
      ]
     },
     "execution_count": 4,
     "metadata": {},
     "output_type": "execute_result"
    }
   ],
   "source": [
    "loan_df.head()"
   ]
  },
  {
   "cell_type": "markdown",
   "id": "armed-point",
   "metadata": {},
   "source": [
    "# Data Cleaning\n",
    "\n",
    "## Data Cleaning 1: Fix Rows and Columns"
   ]
  },
  {
   "cell_type": "markdown",
   "id": "beneficial-determination",
   "metadata": {},
   "source": [
    "#### Row Cleaning is not required till now as no Unnecessary Rows are present based on following checkpoints:\n",
    "\n",
    "### Fix Rows\n",
    "\n",
    "#### Data Cleaning 1.1.1: Delete Incorrect Rows ✓\n",
    "#### Data Cleaning 1.1.2: Delete Summay Rows ✓\n",
    "#### Data Cleaning 1.1.3: Delete Extra Rows ✓\n",
    "\n",
    "Note: Rows will be further analysed"
   ]
  },
  {
   "cell_type": "markdown",
   "id": "tutorial-hostel",
   "metadata": {},
   "source": [
    "### Fix Columns\n",
    "\n",
    "#### Data Cleaning 1.2.1: Add Column Names if Missing\n",
    "All columns have their identfication name\n",
    "#### Data Cleaning 1.2.2: Mereg Columns for Identifiers\n",
    "None of the data needs to merged\n",
    "#### Data Cleaning 1.2.3: Align Misaligned Columns\n",
    "No Columns are misalighned\n",
    "#### Data Cleaning 1.2.4: Split Columns for more data\n",
    "No Need to Split as per the Data\n",
    "\n",
    "#### Data Cleaning 1.2.5: Rename columns consistently"
   ]
  },
  {
   "cell_type": "code",
   "execution_count": 5,
   "id": "explicit-estate",
   "metadata": {},
   "outputs": [
    {
     "data": {
      "text/plain": [
       "0    860\n",
       "1    309\n",
       "2    606\n",
       "3    917\n",
       "4    972\n",
       "Name: zip_code, dtype: object"
      ]
     },
     "execution_count": 5,
     "metadata": {},
     "output_type": "execute_result"
    }
   ],
   "source": [
    "# Removing 'xx' from zip code columns\n",
    "loan_df['zip_code'] = loan_df['zip_code'].apply(lambda x: x.replace('xx',''))\n",
    "loan_df['zip_code'].head()"
   ]
  },
  {
   "cell_type": "markdown",
   "id": "located-quantum",
   "metadata": {},
   "source": [
    "#### Data Cleaning 1.2.6: Delete unnecesaary Columns\n",
    "There are columns which are irrelevant to this case study, so removing them"
   ]
  },
  {
   "cell_type": "code",
   "execution_count": 6,
   "id": "sensitive-tucson",
   "metadata": {},
   "outputs": [],
   "source": [
    "irrelevant_col = ['acc_open_past_24mths',\n",
    "'collection_recovery_fee',\n",
    "'delinq_2yrs',\n",
    "'earliest_cr_line',\n",
    "'inq_last_6mths',\n",
    "'mo_sin_old_il_acct',\n",
    "'mo_sin_old_rev_tl_op',\n",
    "'mths_since_last_delinq',\n",
    "'mths_since_last_major_derog',\n",
    "'mths_since_recent_revol_delinq',\n",
    "'num_accts_ever_120_pd',\n",
    "'open_acc',\n",
    "'tax_liens',\n",
    "'bc_open_to_buy',\n",
    "'collections_12_mths_ex_med',\n",
    "'desc',\n",
    "'emp_title',\n",
    "'id',\n",
    "'inq_fi',\n",
    "'last_credit_pull_d',\n",
    "'last_pymnt_amnt',\n",
    "'last_pymnt_d',\n",
    "'member_id',\n",
    "'mo_sin_rcnt_rev_tl_op',\n",
    "'mo_sin_rcnt_tl',\n",
    "'mths_since_last_record',\n",
    "'mths_since_rcnt_il',\n",
    "'mths_since_recent_bc',\n",
    "'mths_since_recent_bc_dlq',\n",
    "'mths_since_recent_inq',\n",
    "'next_pymnt_d',\n",
    "'total_rec_late_fee',\n",
    "'url']\n",
    "loan_df.drop(irrelevant_col,axis = 1, inplace = True)"
   ]
  },
  {
   "cell_type": "code",
   "execution_count": 7,
   "id": "lyric-sellers",
   "metadata": {},
   "outputs": [
    {
     "data": {
      "text/html": [
       "<div>\n",
       "<style scoped>\n",
       "    .dataframe tbody tr th:only-of-type {\n",
       "        vertical-align: middle;\n",
       "    }\n",
       "\n",
       "    .dataframe tbody tr th {\n",
       "        vertical-align: top;\n",
       "    }\n",
       "\n",
       "    .dataframe thead th {\n",
       "        text-align: right;\n",
       "    }\n",
       "</style>\n",
       "<table border=\"1\" class=\"dataframe\">\n",
       "  <thead>\n",
       "    <tr style=\"text-align: right;\">\n",
       "      <th></th>\n",
       "      <th>loan_amnt</th>\n",
       "      <th>funded_amnt</th>\n",
       "      <th>funded_amnt_inv</th>\n",
       "      <th>term</th>\n",
       "      <th>int_rate</th>\n",
       "      <th>installment</th>\n",
       "      <th>grade</th>\n",
       "      <th>sub_grade</th>\n",
       "      <th>emp_length</th>\n",
       "      <th>home_ownership</th>\n",
       "      <th>...</th>\n",
       "      <th>num_tl_30dpd</th>\n",
       "      <th>num_tl_90g_dpd_24m</th>\n",
       "      <th>num_tl_op_past_12m</th>\n",
       "      <th>pct_tl_nvr_dlq</th>\n",
       "      <th>percent_bc_gt_75</th>\n",
       "      <th>pub_rec_bankruptcies</th>\n",
       "      <th>tot_hi_cred_lim</th>\n",
       "      <th>total_bal_ex_mort</th>\n",
       "      <th>total_bc_limit</th>\n",
       "      <th>total_il_high_credit_limit</th>\n",
       "    </tr>\n",
       "  </thead>\n",
       "  <tbody>\n",
       "    <tr>\n",
       "      <th>0</th>\n",
       "      <td>5000</td>\n",
       "      <td>5000</td>\n",
       "      <td>4975.0</td>\n",
       "      <td>36 months</td>\n",
       "      <td>10.65%</td>\n",
       "      <td>162.87</td>\n",
       "      <td>B</td>\n",
       "      <td>B2</td>\n",
       "      <td>10+ years</td>\n",
       "      <td>RENT</td>\n",
       "      <td>...</td>\n",
       "      <td>NaN</td>\n",
       "      <td>NaN</td>\n",
       "      <td>NaN</td>\n",
       "      <td>NaN</td>\n",
       "      <td>NaN</td>\n",
       "      <td>0.0</td>\n",
       "      <td>NaN</td>\n",
       "      <td>NaN</td>\n",
       "      <td>NaN</td>\n",
       "      <td>NaN</td>\n",
       "    </tr>\n",
       "    <tr>\n",
       "      <th>1</th>\n",
       "      <td>2500</td>\n",
       "      <td>2500</td>\n",
       "      <td>2500.0</td>\n",
       "      <td>60 months</td>\n",
       "      <td>15.27%</td>\n",
       "      <td>59.83</td>\n",
       "      <td>C</td>\n",
       "      <td>C4</td>\n",
       "      <td>&lt; 1 year</td>\n",
       "      <td>RENT</td>\n",
       "      <td>...</td>\n",
       "      <td>NaN</td>\n",
       "      <td>NaN</td>\n",
       "      <td>NaN</td>\n",
       "      <td>NaN</td>\n",
       "      <td>NaN</td>\n",
       "      <td>0.0</td>\n",
       "      <td>NaN</td>\n",
       "      <td>NaN</td>\n",
       "      <td>NaN</td>\n",
       "      <td>NaN</td>\n",
       "    </tr>\n",
       "    <tr>\n",
       "      <th>2</th>\n",
       "      <td>2400</td>\n",
       "      <td>2400</td>\n",
       "      <td>2400.0</td>\n",
       "      <td>36 months</td>\n",
       "      <td>15.96%</td>\n",
       "      <td>84.33</td>\n",
       "      <td>C</td>\n",
       "      <td>C5</td>\n",
       "      <td>10+ years</td>\n",
       "      <td>RENT</td>\n",
       "      <td>...</td>\n",
       "      <td>NaN</td>\n",
       "      <td>NaN</td>\n",
       "      <td>NaN</td>\n",
       "      <td>NaN</td>\n",
       "      <td>NaN</td>\n",
       "      <td>0.0</td>\n",
       "      <td>NaN</td>\n",
       "      <td>NaN</td>\n",
       "      <td>NaN</td>\n",
       "      <td>NaN</td>\n",
       "    </tr>\n",
       "    <tr>\n",
       "      <th>3</th>\n",
       "      <td>10000</td>\n",
       "      <td>10000</td>\n",
       "      <td>10000.0</td>\n",
       "      <td>36 months</td>\n",
       "      <td>13.49%</td>\n",
       "      <td>339.31</td>\n",
       "      <td>C</td>\n",
       "      <td>C1</td>\n",
       "      <td>10+ years</td>\n",
       "      <td>RENT</td>\n",
       "      <td>...</td>\n",
       "      <td>NaN</td>\n",
       "      <td>NaN</td>\n",
       "      <td>NaN</td>\n",
       "      <td>NaN</td>\n",
       "      <td>NaN</td>\n",
       "      <td>0.0</td>\n",
       "      <td>NaN</td>\n",
       "      <td>NaN</td>\n",
       "      <td>NaN</td>\n",
       "      <td>NaN</td>\n",
       "    </tr>\n",
       "    <tr>\n",
       "      <th>4</th>\n",
       "      <td>3000</td>\n",
       "      <td>3000</td>\n",
       "      <td>3000.0</td>\n",
       "      <td>60 months</td>\n",
       "      <td>12.69%</td>\n",
       "      <td>67.79</td>\n",
       "      <td>B</td>\n",
       "      <td>B5</td>\n",
       "      <td>1 year</td>\n",
       "      <td>RENT</td>\n",
       "      <td>...</td>\n",
       "      <td>NaN</td>\n",
       "      <td>NaN</td>\n",
       "      <td>NaN</td>\n",
       "      <td>NaN</td>\n",
       "      <td>NaN</td>\n",
       "      <td>0.0</td>\n",
       "      <td>NaN</td>\n",
       "      <td>NaN</td>\n",
       "      <td>NaN</td>\n",
       "      <td>NaN</td>\n",
       "    </tr>\n",
       "  </tbody>\n",
       "</table>\n",
       "<p>5 rows × 78 columns</p>\n",
       "</div>"
      ],
      "text/plain": [
       "   loan_amnt  funded_amnt  funded_amnt_inv        term int_rate  installment  \\\n",
       "0       5000         5000           4975.0   36 months   10.65%       162.87   \n",
       "1       2500         2500           2500.0   60 months   15.27%        59.83   \n",
       "2       2400         2400           2400.0   36 months   15.96%        84.33   \n",
       "3      10000        10000          10000.0   36 months   13.49%       339.31   \n",
       "4       3000         3000           3000.0   60 months   12.69%        67.79   \n",
       "\n",
       "  grade sub_grade emp_length home_ownership  ...  num_tl_30dpd  \\\n",
       "0     B        B2  10+ years           RENT  ...           NaN   \n",
       "1     C        C4   < 1 year           RENT  ...           NaN   \n",
       "2     C        C5  10+ years           RENT  ...           NaN   \n",
       "3     C        C1  10+ years           RENT  ...           NaN   \n",
       "4     B        B5     1 year           RENT  ...           NaN   \n",
       "\n",
       "  num_tl_90g_dpd_24m num_tl_op_past_12m pct_tl_nvr_dlq percent_bc_gt_75  \\\n",
       "0                NaN                NaN            NaN              NaN   \n",
       "1                NaN                NaN            NaN              NaN   \n",
       "2                NaN                NaN            NaN              NaN   \n",
       "3                NaN                NaN            NaN              NaN   \n",
       "4                NaN                NaN            NaN              NaN   \n",
       "\n",
       "  pub_rec_bankruptcies tot_hi_cred_lim total_bal_ex_mort total_bc_limit  \\\n",
       "0                  0.0             NaN               NaN            NaN   \n",
       "1                  0.0             NaN               NaN            NaN   \n",
       "2                  0.0             NaN               NaN            NaN   \n",
       "3                  0.0             NaN               NaN            NaN   \n",
       "4                  0.0             NaN               NaN            NaN   \n",
       "\n",
       "   total_il_high_credit_limit  \n",
       "0                         NaN  \n",
       "1                         NaN  \n",
       "2                         NaN  \n",
       "3                         NaN  \n",
       "4                         NaN  \n",
       "\n",
       "[5 rows x 78 columns]"
      ]
     },
     "execution_count": 7,
     "metadata": {},
     "output_type": "execute_result"
    }
   ],
   "source": [
    "loan_df.head()"
   ]
  },
  {
   "cell_type": "markdown",
   "id": "tight-expression",
   "metadata": {},
   "source": [
    "## Data Cleaning 2: Fix Missing Values\n",
    "#### Data Cleaning 2.1: Set Value as missing Values\n",
    "#### Data Cleaning 2.2: Adding is Good, exaggerating is bad\n",
    "#### Data Cleaning 2.3: Delete Rows and Columns\n",
    "#### Data Cleaning 2.4: Fill Partial missing Values based on Business Judgement "
   ]
  },
  {
   "cell_type": "code",
   "execution_count": 8,
   "id": "settled-complex",
   "metadata": {
    "scrolled": true
   },
   "outputs": [
    {
     "data": {
      "text/plain": [
       "loan_amnt                         0\n",
       "funded_amnt                       0\n",
       "funded_amnt_inv                   0\n",
       "term                              0\n",
       "int_rate                          0\n",
       "                              ...  \n",
       "pub_rec_bankruptcies            697\n",
       "tot_hi_cred_lim               39717\n",
       "total_bal_ex_mort             39717\n",
       "total_bc_limit                39717\n",
       "total_il_high_credit_limit    39717\n",
       "Length: 78, dtype: int64"
      ]
     },
     "execution_count": 8,
     "metadata": {},
     "output_type": "execute_result"
    }
   ],
   "source": [
    "##### There are rows where rows data is null/Nan, such columns can be removed\n",
    "# Total null value on each Columns\n",
    "loan_df.isnull().sum()"
   ]
  },
  {
   "cell_type": "markdown",
   "id": "growing-dinner",
   "metadata": {},
   "source": [
    "### There are Columns which are having null for all rows, so can be removed"
   ]
  },
  {
   "cell_type": "code",
   "execution_count": 9,
   "id": "conservative-cornell",
   "metadata": {
    "scrolled": true
   },
   "outputs": [
    {
     "data": {
      "text/html": [
       "<div>\n",
       "<style scoped>\n",
       "    .dataframe tbody tr th:only-of-type {\n",
       "        vertical-align: middle;\n",
       "    }\n",
       "\n",
       "    .dataframe tbody tr th {\n",
       "        vertical-align: top;\n",
       "    }\n",
       "\n",
       "    .dataframe thead th {\n",
       "        text-align: right;\n",
       "    }\n",
       "</style>\n",
       "<table border=\"1\" class=\"dataframe\">\n",
       "  <thead>\n",
       "    <tr style=\"text-align: right;\">\n",
       "      <th></th>\n",
       "      <th>loan_amnt</th>\n",
       "      <th>funded_amnt</th>\n",
       "      <th>funded_amnt_inv</th>\n",
       "      <th>term</th>\n",
       "      <th>int_rate</th>\n",
       "      <th>installment</th>\n",
       "      <th>grade</th>\n",
       "      <th>sub_grade</th>\n",
       "      <th>emp_length</th>\n",
       "      <th>home_ownership</th>\n",
       "      <th>...</th>\n",
       "      <th>total_pymnt_inv</th>\n",
       "      <th>total_rec_prncp</th>\n",
       "      <th>total_rec_int</th>\n",
       "      <th>recoveries</th>\n",
       "      <th>policy_code</th>\n",
       "      <th>application_type</th>\n",
       "      <th>acc_now_delinq</th>\n",
       "      <th>chargeoff_within_12_mths</th>\n",
       "      <th>delinq_amnt</th>\n",
       "      <th>pub_rec_bankruptcies</th>\n",
       "    </tr>\n",
       "  </thead>\n",
       "  <tbody>\n",
       "    <tr>\n",
       "      <th>0</th>\n",
       "      <td>5000</td>\n",
       "      <td>5000</td>\n",
       "      <td>4975.0</td>\n",
       "      <td>36 months</td>\n",
       "      <td>10.65%</td>\n",
       "      <td>162.87</td>\n",
       "      <td>B</td>\n",
       "      <td>B2</td>\n",
       "      <td>10+ years</td>\n",
       "      <td>RENT</td>\n",
       "      <td>...</td>\n",
       "      <td>5833.84</td>\n",
       "      <td>5000.00</td>\n",
       "      <td>863.16</td>\n",
       "      <td>0.00</td>\n",
       "      <td>1</td>\n",
       "      <td>INDIVIDUAL</td>\n",
       "      <td>0</td>\n",
       "      <td>0.0</td>\n",
       "      <td>0</td>\n",
       "      <td>0.0</td>\n",
       "    </tr>\n",
       "    <tr>\n",
       "      <th>1</th>\n",
       "      <td>2500</td>\n",
       "      <td>2500</td>\n",
       "      <td>2500.0</td>\n",
       "      <td>60 months</td>\n",
       "      <td>15.27%</td>\n",
       "      <td>59.83</td>\n",
       "      <td>C</td>\n",
       "      <td>C4</td>\n",
       "      <td>&lt; 1 year</td>\n",
       "      <td>RENT</td>\n",
       "      <td>...</td>\n",
       "      <td>1008.71</td>\n",
       "      <td>456.46</td>\n",
       "      <td>435.17</td>\n",
       "      <td>117.08</td>\n",
       "      <td>1</td>\n",
       "      <td>INDIVIDUAL</td>\n",
       "      <td>0</td>\n",
       "      <td>0.0</td>\n",
       "      <td>0</td>\n",
       "      <td>0.0</td>\n",
       "    </tr>\n",
       "    <tr>\n",
       "      <th>2</th>\n",
       "      <td>2400</td>\n",
       "      <td>2400</td>\n",
       "      <td>2400.0</td>\n",
       "      <td>36 months</td>\n",
       "      <td>15.96%</td>\n",
       "      <td>84.33</td>\n",
       "      <td>C</td>\n",
       "      <td>C5</td>\n",
       "      <td>10+ years</td>\n",
       "      <td>RENT</td>\n",
       "      <td>...</td>\n",
       "      <td>3005.67</td>\n",
       "      <td>2400.00</td>\n",
       "      <td>605.67</td>\n",
       "      <td>0.00</td>\n",
       "      <td>1</td>\n",
       "      <td>INDIVIDUAL</td>\n",
       "      <td>0</td>\n",
       "      <td>0.0</td>\n",
       "      <td>0</td>\n",
       "      <td>0.0</td>\n",
       "    </tr>\n",
       "    <tr>\n",
       "      <th>3</th>\n",
       "      <td>10000</td>\n",
       "      <td>10000</td>\n",
       "      <td>10000.0</td>\n",
       "      <td>36 months</td>\n",
       "      <td>13.49%</td>\n",
       "      <td>339.31</td>\n",
       "      <td>C</td>\n",
       "      <td>C1</td>\n",
       "      <td>10+ years</td>\n",
       "      <td>RENT</td>\n",
       "      <td>...</td>\n",
       "      <td>12231.89</td>\n",
       "      <td>10000.00</td>\n",
       "      <td>2214.92</td>\n",
       "      <td>0.00</td>\n",
       "      <td>1</td>\n",
       "      <td>INDIVIDUAL</td>\n",
       "      <td>0</td>\n",
       "      <td>0.0</td>\n",
       "      <td>0</td>\n",
       "      <td>0.0</td>\n",
       "    </tr>\n",
       "    <tr>\n",
       "      <th>4</th>\n",
       "      <td>3000</td>\n",
       "      <td>3000</td>\n",
       "      <td>3000.0</td>\n",
       "      <td>60 months</td>\n",
       "      <td>12.69%</td>\n",
       "      <td>67.79</td>\n",
       "      <td>B</td>\n",
       "      <td>B5</td>\n",
       "      <td>1 year</td>\n",
       "      <td>RENT</td>\n",
       "      <td>...</td>\n",
       "      <td>3513.33</td>\n",
       "      <td>2475.94</td>\n",
       "      <td>1037.39</td>\n",
       "      <td>0.00</td>\n",
       "      <td>1</td>\n",
       "      <td>INDIVIDUAL</td>\n",
       "      <td>0</td>\n",
       "      <td>0.0</td>\n",
       "      <td>0</td>\n",
       "      <td>0.0</td>\n",
       "    </tr>\n",
       "  </tbody>\n",
       "</table>\n",
       "<p>5 rows × 38 columns</p>\n",
       "</div>"
      ],
      "text/plain": [
       "   loan_amnt  funded_amnt  funded_amnt_inv        term int_rate  installment  \\\n",
       "0       5000         5000           4975.0   36 months   10.65%       162.87   \n",
       "1       2500         2500           2500.0   60 months   15.27%        59.83   \n",
       "2       2400         2400           2400.0   36 months   15.96%        84.33   \n",
       "3      10000        10000          10000.0   36 months   13.49%       339.31   \n",
       "4       3000         3000           3000.0   60 months   12.69%        67.79   \n",
       "\n",
       "  grade sub_grade emp_length home_ownership  ...  total_pymnt_inv  \\\n",
       "0     B        B2  10+ years           RENT  ...          5833.84   \n",
       "1     C        C4   < 1 year           RENT  ...          1008.71   \n",
       "2     C        C5  10+ years           RENT  ...          3005.67   \n",
       "3     C        C1  10+ years           RENT  ...         12231.89   \n",
       "4     B        B5     1 year           RENT  ...          3513.33   \n",
       "\n",
       "  total_rec_prncp total_rec_int recoveries policy_code application_type  \\\n",
       "0         5000.00        863.16       0.00           1       INDIVIDUAL   \n",
       "1          456.46        435.17     117.08           1       INDIVIDUAL   \n",
       "2         2400.00        605.67       0.00           1       INDIVIDUAL   \n",
       "3        10000.00       2214.92       0.00           1       INDIVIDUAL   \n",
       "4         2475.94       1037.39       0.00           1       INDIVIDUAL   \n",
       "\n",
       "  acc_now_delinq chargeoff_within_12_mths delinq_amnt  pub_rec_bankruptcies  \n",
       "0              0                      0.0           0                   0.0  \n",
       "1              0                      0.0           0                   0.0  \n",
       "2              0                      0.0           0                   0.0  \n",
       "3              0                      0.0           0                   0.0  \n",
       "4              0                      0.0           0                   0.0  \n",
       "\n",
       "[5 rows x 38 columns]"
      ]
     },
     "execution_count": 9,
     "metadata": {},
     "output_type": "execute_result"
    }
   ],
   "source": [
    "# Dropping columns which contains NA\n",
    "loan_df.dropna(axis = 1, how = 'all', inplace = True)\n",
    "loan_df.head()"
   ]
  },
  {
   "cell_type": "code",
   "execution_count": 10,
   "id": "considerable-thunder",
   "metadata": {
    "scrolled": true
   },
   "outputs": [
    {
     "data": {
      "text/plain": [
       "loan_amnt                      0\n",
       "funded_amnt                    0\n",
       "funded_amnt_inv                0\n",
       "term                           0\n",
       "int_rate                       0\n",
       "installment                    0\n",
       "grade                          0\n",
       "sub_grade                      0\n",
       "emp_length                  1075\n",
       "home_ownership                 0\n",
       "annual_inc                     0\n",
       "verification_status            0\n",
       "issue_d                        0\n",
       "loan_status                    0\n",
       "pymnt_plan                     0\n",
       "purpose                        0\n",
       "title                         11\n",
       "zip_code                       0\n",
       "addr_state                     0\n",
       "dti                            0\n",
       "pub_rec                        0\n",
       "revol_bal                      0\n",
       "revol_util                    50\n",
       "total_acc                      0\n",
       "initial_list_status            0\n",
       "out_prncp                      0\n",
       "out_prncp_inv                  0\n",
       "total_pymnt                    0\n",
       "total_pymnt_inv                0\n",
       "total_rec_prncp                0\n",
       "total_rec_int                  0\n",
       "recoveries                     0\n",
       "policy_code                    0\n",
       "application_type               0\n",
       "acc_now_delinq                 0\n",
       "chargeoff_within_12_mths      56\n",
       "delinq_amnt                    0\n",
       "pub_rec_bankruptcies         697\n",
       "dtype: int64"
      ]
     },
     "execution_count": 10,
     "metadata": {},
     "output_type": "execute_result"
    }
   ],
   "source": [
    "# Total null value on each Columns\n",
    "loan_df.isnull().sum()\n",
    "#loan_df.dropna(axis=1, how='all')"
   ]
  },
  {
   "cell_type": "markdown",
   "id": "atlantic-congo",
   "metadata": {},
   "source": [
    "## Fix Columns having null values\n",
    "- emp_length\n",
    "- title\n",
    "- revol_util\n",
    "- chargeoff_within_12_mnths\n",
    "- pub_rec_bankruptcies "
   ]
  },
  {
   "cell_type": "code",
   "execution_count": 11,
   "id": "noticed-induction",
   "metadata": {},
   "outputs": [
    {
     "name": "stdout",
     "output_type": "stream",
     "text": [
      "['10+ years' '< 1 year' '1 year' '3 years' '8 years' '9 years' '4 years'\n",
      " '5 years' '6 years' '2 years' '7 years' nan]\n"
     ]
    },
    {
     "data": {
      "text/plain": [
       "10+ years    8879\n",
       "< 1 year     4583\n",
       "2 years      4388\n",
       "3 years      4095\n",
       "4 years      3436\n",
       "5 years      3282\n",
       "1 year       3240\n",
       "6 years      2229\n",
       "7 years      1773\n",
       "8 years      1479\n",
       "9 years      1258\n",
       "Name: emp_length, dtype: int64"
      ]
     },
     "execution_count": 11,
     "metadata": {},
     "output_type": "execute_result"
    }
   ],
   "source": [
    "# Fix missing values of emp_length\n",
    "print(loan_df.emp_length.unique())\n",
    "loan_df.emp_length.value_counts()"
   ]
  },
  {
   "cell_type": "markdown",
   "id": "material-discrimination",
   "metadata": {},
   "source": [
    "Majority of data have experience more than 10+ than the next most frequent value so value of mode to the null values can be assign easily, fixing by filling partial mising values"
   ]
  },
  {
   "cell_type": "code",
   "execution_count": 12,
   "id": "satisfied-scanner",
   "metadata": {},
   "outputs": [
    {
     "data": {
      "text/plain": [
       "10+ years    9954\n",
       "< 1 year     4583\n",
       "2 years      4388\n",
       "3 years      4095\n",
       "4 years      3436\n",
       "5 years      3282\n",
       "1 year       3240\n",
       "6 years      2229\n",
       "7 years      1773\n",
       "8 years      1479\n",
       "9 years      1258\n",
       "Name: emp_length, dtype: int64"
      ]
     },
     "execution_count": 12,
     "metadata": {},
     "output_type": "execute_result"
    }
   ],
   "source": [
    "loan_df.emp_length.fillna(loan_df.emp_length.mode()[0], inplace = True)\n",
    "loan_df.emp_length.value_counts()"
   ]
  },
  {
   "cell_type": "code",
   "execution_count": 13,
   "id": "yellow-sacramento",
   "metadata": {
    "scrolled": true
   },
   "outputs": [
    {
     "name": "stdout",
     "output_type": "stream",
     "text": [
      "['Computer' 'bike' 'real estate business' ... 'Retiring credit card debt'\n",
      " 'MBA Loan Consolidation' 'JAL Loan']\n"
     ]
    },
    {
     "data": {
      "text/plain": [
       "Debt Consolidation                          2184\n",
       "Debt Consolidation Loan                     1729\n",
       "Personal Loan                                659\n",
       "Consolidation                                517\n",
       "debt consolidation                           505\n",
       "                                            ... \n",
       "Excellent credit debt consolidation loan       1\n",
       "PRECISE                                        1\n",
       "Please help me regain promising future!        1\n",
       "for car                                        1\n",
       "Chevelle Loan                                  1\n",
       "Name: title, Length: 19615, dtype: int64"
      ]
     },
     "execution_count": 13,
     "metadata": {},
     "output_type": "execute_result"
    }
   ],
   "source": [
    "# Fix missing values of title\n",
    "print(loan_df.title.unique())\n",
    "loan_df.title.value_counts()"
   ]
  },
  {
   "cell_type": "markdown",
   "id": "australian-seeker",
   "metadata": {},
   "source": [
    "Title column have many unique values so there are chances it might not help to find any pattern, so dropping this column"
   ]
  },
  {
   "cell_type": "code",
   "execution_count": 14,
   "id": "increasing-capacity",
   "metadata": {},
   "outputs": [],
   "source": [
    "# dropping Title columns from data frame\n",
    "loan_df.drop('title',axis = 1, inplace = True)"
   ]
  },
  {
   "cell_type": "code",
   "execution_count": 15,
   "id": "tough-magic",
   "metadata": {},
   "outputs": [
    {
     "name": "stdout",
     "output_type": "stream",
     "text": [
      "['83.70%' '9.40%' '98.50%' ... '49.63%' '0.04%' '7.28%']\n"
     ]
    },
    {
     "data": {
      "text/plain": [
       "0%        977\n",
       "0.20%      63\n",
       "63%        62\n",
       "0.10%      58\n",
       "40.70%     58\n",
       "         ... \n",
       "46.74%      1\n",
       "27.81%      1\n",
       "5.33%       1\n",
       "34.89%      1\n",
       "94.46%      1\n",
       "Name: revol_util, Length: 1089, dtype: int64"
      ]
     },
     "execution_count": 15,
     "metadata": {},
     "output_type": "execute_result"
    }
   ],
   "source": [
    "# Fix missing values of revol_util\n",
    "print(loan_df.revol_util.unique())\n",
    "loan_df.revol_util.value_counts()"
   ]
  },
  {
   "cell_type": "code",
   "execution_count": 16,
   "id": "confirmed-dynamics",
   "metadata": {},
   "outputs": [],
   "source": [
    "# dropping rows where revol_util is null as there are just 50 records out thousands of them\n",
    "loan_df.dropna(axis = 0, subset = ['revol_util'] , inplace = True)"
   ]
  },
  {
   "cell_type": "code",
   "execution_count": 17,
   "id": "polished-circular",
   "metadata": {},
   "outputs": [
    {
     "name": "stdout",
     "output_type": "stream",
     "text": [
      "[ 0. nan]\n"
     ]
    },
    {
     "data": {
      "text/plain": [
       "0.0    39611\n",
       "Name: chargeoff_within_12_mths, dtype: int64"
      ]
     },
     "execution_count": 17,
     "metadata": {},
     "output_type": "execute_result"
    }
   ],
   "source": [
    "# Fix missing values of chargeoff_within_12_mths\n",
    "print(loan_df.chargeoff_within_12_mths.unique())\n",
    "loan_df.chargeoff_within_12_mths.value_counts()      "
   ]
  },
  {
   "cell_type": "code",
   "execution_count": 18,
   "id": "eight-bundle",
   "metadata": {},
   "outputs": [],
   "source": [
    "#Dropping this column as value of this column doesnt have any significant impact on analysis\n",
    "loan_df.dropna(axis = 0, subset = ['chargeoff_within_12_mths'] , inplace = True)"
   ]
  },
  {
   "cell_type": "code",
   "execution_count": 19,
   "id": "humanitarian-honey",
   "metadata": {},
   "outputs": [
    {
     "name": "stdout",
     "output_type": "stream",
     "text": [
      "[ 0.  1.  2. nan]\n"
     ]
    },
    {
     "data": {
      "text/plain": [
       "0.0    37290\n",
       "1.0     1671\n",
       "2.0        7\n",
       "Name: pub_rec_bankruptcies, dtype: int64"
      ]
     },
     "execution_count": 19,
     "metadata": {},
     "output_type": "execute_result"
    }
   ],
   "source": [
    "# Fix missing values of pub_rec_bankruptcies\n",
    "print(loan_df.pub_rec_bankruptcies.unique())\n",
    "loan_df.pub_rec_bankruptcies.value_counts()"
   ]
  },
  {
   "cell_type": "markdown",
   "id": "discrete-finnish",
   "metadata": {},
   "source": [
    "Majority of data have reported bankruptcies as 0 than the next most frequent value so value of mode to the null values can be assign"
   ]
  },
  {
   "cell_type": "code",
   "execution_count": 20,
   "id": "greenhouse-cattle",
   "metadata": {},
   "outputs": [
    {
     "data": {
      "text/plain": [
       "0.0    37933\n",
       "1.0     1671\n",
       "2.0        7\n",
       "Name: pub_rec_bankruptcies, dtype: int64"
      ]
     },
     "execution_count": 20,
     "metadata": {},
     "output_type": "execute_result"
    }
   ],
   "source": [
    "loan_df.pub_rec_bankruptcies.fillna(loan_df.pub_rec_bankruptcies.mode()[0], inplace = True)\n",
    "loan_df.pub_rec_bankruptcies.value_counts()"
   ]
  },
  {
   "cell_type": "code",
   "execution_count": 21,
   "id": "announced-tuesday",
   "metadata": {},
   "outputs": [
    {
     "data": {
      "text/plain": [
       "loan_amnt                   0\n",
       "funded_amnt                 0\n",
       "funded_amnt_inv             0\n",
       "term                        0\n",
       "int_rate                    0\n",
       "installment                 0\n",
       "grade                       0\n",
       "sub_grade                   0\n",
       "emp_length                  0\n",
       "home_ownership              0\n",
       "annual_inc                  0\n",
       "verification_status         0\n",
       "issue_d                     0\n",
       "loan_status                 0\n",
       "pymnt_plan                  0\n",
       "purpose                     0\n",
       "zip_code                    0\n",
       "addr_state                  0\n",
       "dti                         0\n",
       "pub_rec                     0\n",
       "revol_bal                   0\n",
       "revol_util                  0\n",
       "total_acc                   0\n",
       "initial_list_status         0\n",
       "out_prncp                   0\n",
       "out_prncp_inv               0\n",
       "total_pymnt                 0\n",
       "total_pymnt_inv             0\n",
       "total_rec_prncp             0\n",
       "total_rec_int               0\n",
       "recoveries                  0\n",
       "policy_code                 0\n",
       "application_type            0\n",
       "acc_now_delinq              0\n",
       "chargeoff_within_12_mths    0\n",
       "delinq_amnt                 0\n",
       "pub_rec_bankruptcies        0\n",
       "dtype: int64"
      ]
     },
     "execution_count": 21,
     "metadata": {},
     "output_type": "execute_result"
    }
   ],
   "source": [
    "# Missing Values are resolved\n",
    "loan_df.isnull().sum()"
   ]
  },
  {
   "cell_type": "markdown",
   "id": "fuzzy-logic",
   "metadata": {},
   "source": [
    "### Identifying Columns which are having common values\n",
    "The Columns having common Values, will not be useful for analysis"
   ]
  },
  {
   "cell_type": "code",
   "execution_count": 22,
   "id": "fossil-iraqi",
   "metadata": {},
   "outputs": [],
   "source": [
    "# looping through all Columns and remove them if they have common values across rows\n",
    "common_col_To_remove = []\n",
    "for col in loan_df.columns:\n",
    "    if (loan_df[col] == loan_df[col][0]).all():\n",
    "        common_col_To_remove.append(col) \n",
    "loan_df.drop(common_col_To_remove,axis = 1, inplace = True)"
   ]
  },
  {
   "cell_type": "markdown",
   "id": "charitable-cyprus",
   "metadata": {},
   "source": [
    "## Data Cleaning 3: Standardize Values\n",
    "#### Data Cleaning 3.1: Standardize Unit\n",
    "#### Data Cleaning 3.2: Scale Units\n",
    "#### Data Cleaning 3.3: Precision\n",
    "#### Data Cleaning 3.4: Remove Outliers "
   ]
  },
  {
   "cell_type": "code",
   "execution_count": 23,
   "id": "boring-retreat",
   "metadata": {},
   "outputs": [
    {
     "data": {
      "text/html": [
       "<div>\n",
       "<style scoped>\n",
       "    .dataframe tbody tr th:only-of-type {\n",
       "        vertical-align: middle;\n",
       "    }\n",
       "\n",
       "    .dataframe tbody tr th {\n",
       "        vertical-align: top;\n",
       "    }\n",
       "\n",
       "    .dataframe thead th {\n",
       "        text-align: right;\n",
       "    }\n",
       "</style>\n",
       "<table border=\"1\" class=\"dataframe\">\n",
       "  <thead>\n",
       "    <tr style=\"text-align: right;\">\n",
       "      <th></th>\n",
       "      <th>loan_amnt</th>\n",
       "      <th>funded_amnt</th>\n",
       "      <th>funded_amnt_inv</th>\n",
       "      <th>term</th>\n",
       "      <th>int_rate</th>\n",
       "      <th>installment</th>\n",
       "      <th>grade</th>\n",
       "      <th>sub_grade</th>\n",
       "      <th>emp_length</th>\n",
       "      <th>home_ownership</th>\n",
       "      <th>...</th>\n",
       "      <th>revol_util</th>\n",
       "      <th>total_acc</th>\n",
       "      <th>out_prncp</th>\n",
       "      <th>out_prncp_inv</th>\n",
       "      <th>total_pymnt</th>\n",
       "      <th>total_pymnt_inv</th>\n",
       "      <th>total_rec_prncp</th>\n",
       "      <th>total_rec_int</th>\n",
       "      <th>recoveries</th>\n",
       "      <th>pub_rec_bankruptcies</th>\n",
       "    </tr>\n",
       "  </thead>\n",
       "  <tbody>\n",
       "    <tr>\n",
       "      <th>0</th>\n",
       "      <td>5000</td>\n",
       "      <td>5000</td>\n",
       "      <td>4975.0</td>\n",
       "      <td>36 months</td>\n",
       "      <td>10.65%</td>\n",
       "      <td>162.87</td>\n",
       "      <td>B</td>\n",
       "      <td>B2</td>\n",
       "      <td>10</td>\n",
       "      <td>RENT</td>\n",
       "      <td>...</td>\n",
       "      <td>83.70%</td>\n",
       "      <td>9</td>\n",
       "      <td>0.00</td>\n",
       "      <td>0.00</td>\n",
       "      <td>5863.155187</td>\n",
       "      <td>5833.84</td>\n",
       "      <td>5000.00</td>\n",
       "      <td>863.16</td>\n",
       "      <td>0.00</td>\n",
       "      <td>0.0</td>\n",
       "    </tr>\n",
       "    <tr>\n",
       "      <th>1</th>\n",
       "      <td>2500</td>\n",
       "      <td>2500</td>\n",
       "      <td>2500.0</td>\n",
       "      <td>60 months</td>\n",
       "      <td>15.27%</td>\n",
       "      <td>59.83</td>\n",
       "      <td>C</td>\n",
       "      <td>C4</td>\n",
       "      <td>1</td>\n",
       "      <td>RENT</td>\n",
       "      <td>...</td>\n",
       "      <td>9.40%</td>\n",
       "      <td>4</td>\n",
       "      <td>0.00</td>\n",
       "      <td>0.00</td>\n",
       "      <td>1008.710000</td>\n",
       "      <td>1008.71</td>\n",
       "      <td>456.46</td>\n",
       "      <td>435.17</td>\n",
       "      <td>117.08</td>\n",
       "      <td>0.0</td>\n",
       "    </tr>\n",
       "    <tr>\n",
       "      <th>2</th>\n",
       "      <td>2400</td>\n",
       "      <td>2400</td>\n",
       "      <td>2400.0</td>\n",
       "      <td>36 months</td>\n",
       "      <td>15.96%</td>\n",
       "      <td>84.33</td>\n",
       "      <td>C</td>\n",
       "      <td>C5</td>\n",
       "      <td>10</td>\n",
       "      <td>RENT</td>\n",
       "      <td>...</td>\n",
       "      <td>98.50%</td>\n",
       "      <td>10</td>\n",
       "      <td>0.00</td>\n",
       "      <td>0.00</td>\n",
       "      <td>3005.666844</td>\n",
       "      <td>3005.67</td>\n",
       "      <td>2400.00</td>\n",
       "      <td>605.67</td>\n",
       "      <td>0.00</td>\n",
       "      <td>0.0</td>\n",
       "    </tr>\n",
       "    <tr>\n",
       "      <th>3</th>\n",
       "      <td>10000</td>\n",
       "      <td>10000</td>\n",
       "      <td>10000.0</td>\n",
       "      <td>36 months</td>\n",
       "      <td>13.49%</td>\n",
       "      <td>339.31</td>\n",
       "      <td>C</td>\n",
       "      <td>C1</td>\n",
       "      <td>10</td>\n",
       "      <td>RENT</td>\n",
       "      <td>...</td>\n",
       "      <td>21%</td>\n",
       "      <td>37</td>\n",
       "      <td>0.00</td>\n",
       "      <td>0.00</td>\n",
       "      <td>12231.890000</td>\n",
       "      <td>12231.89</td>\n",
       "      <td>10000.00</td>\n",
       "      <td>2214.92</td>\n",
       "      <td>0.00</td>\n",
       "      <td>0.0</td>\n",
       "    </tr>\n",
       "    <tr>\n",
       "      <th>4</th>\n",
       "      <td>3000</td>\n",
       "      <td>3000</td>\n",
       "      <td>3000.0</td>\n",
       "      <td>60 months</td>\n",
       "      <td>12.69%</td>\n",
       "      <td>67.79</td>\n",
       "      <td>B</td>\n",
       "      <td>B5</td>\n",
       "      <td>1</td>\n",
       "      <td>RENT</td>\n",
       "      <td>...</td>\n",
       "      <td>53.90%</td>\n",
       "      <td>38</td>\n",
       "      <td>524.06</td>\n",
       "      <td>524.06</td>\n",
       "      <td>3513.330000</td>\n",
       "      <td>3513.33</td>\n",
       "      <td>2475.94</td>\n",
       "      <td>1037.39</td>\n",
       "      <td>0.00</td>\n",
       "      <td>0.0</td>\n",
       "    </tr>\n",
       "  </tbody>\n",
       "</table>\n",
       "<p>5 rows × 30 columns</p>\n",
       "</div>"
      ],
      "text/plain": [
       "   loan_amnt  funded_amnt  funded_amnt_inv        term int_rate  installment  \\\n",
       "0       5000         5000           4975.0   36 months   10.65%       162.87   \n",
       "1       2500         2500           2500.0   60 months   15.27%        59.83   \n",
       "2       2400         2400           2400.0   36 months   15.96%        84.33   \n",
       "3      10000        10000          10000.0   36 months   13.49%       339.31   \n",
       "4       3000         3000           3000.0   60 months   12.69%        67.79   \n",
       "\n",
       "  grade sub_grade emp_length home_ownership  ...  revol_util total_acc  \\\n",
       "0     B        B2         10           RENT  ...      83.70%         9   \n",
       "1     C        C4          1           RENT  ...       9.40%         4   \n",
       "2     C        C5         10           RENT  ...      98.50%        10   \n",
       "3     C        C1         10           RENT  ...         21%        37   \n",
       "4     B        B5          1           RENT  ...      53.90%        38   \n",
       "\n",
       "  out_prncp out_prncp_inv   total_pymnt total_pymnt_inv total_rec_prncp  \\\n",
       "0      0.00          0.00   5863.155187         5833.84         5000.00   \n",
       "1      0.00          0.00   1008.710000         1008.71          456.46   \n",
       "2      0.00          0.00   3005.666844         3005.67         2400.00   \n",
       "3      0.00          0.00  12231.890000        12231.89        10000.00   \n",
       "4    524.06        524.06   3513.330000         3513.33         2475.94   \n",
       "\n",
       "   total_rec_int  recoveries  pub_rec_bankruptcies  \n",
       "0         863.16        0.00                   0.0  \n",
       "1         435.17      117.08                   0.0  \n",
       "2         605.67        0.00                   0.0  \n",
       "3        2214.92        0.00                   0.0  \n",
       "4        1037.39        0.00                   0.0  \n",
       "\n",
       "[5 rows x 30 columns]"
      ]
     },
     "execution_count": 23,
     "metadata": {},
     "output_type": "execute_result"
    }
   ],
   "source": [
    "# Standardizing Emp_length column by removing unwanted Strings from column\n",
    "loan_df['emp_length'] = loan_df.emp_length.str.extract('(\\d+)')\n",
    "loan_df.head()"
   ]
  },
  {
   "cell_type": "code",
   "execution_count": 24,
   "id": "fluid-stream",
   "metadata": {},
   "outputs": [
    {
     "data": {
      "text/html": [
       "<div>\n",
       "<style scoped>\n",
       "    .dataframe tbody tr th:only-of-type {\n",
       "        vertical-align: middle;\n",
       "    }\n",
       "\n",
       "    .dataframe tbody tr th {\n",
       "        vertical-align: top;\n",
       "    }\n",
       "\n",
       "    .dataframe thead th {\n",
       "        text-align: right;\n",
       "    }\n",
       "</style>\n",
       "<table border=\"1\" class=\"dataframe\">\n",
       "  <thead>\n",
       "    <tr style=\"text-align: right;\">\n",
       "      <th></th>\n",
       "      <th>loan_amnt</th>\n",
       "      <th>funded_amnt</th>\n",
       "      <th>funded_amnt_inv</th>\n",
       "      <th>term</th>\n",
       "      <th>int_rate</th>\n",
       "      <th>installment</th>\n",
       "      <th>grade</th>\n",
       "      <th>sub_grade</th>\n",
       "      <th>emp_length</th>\n",
       "      <th>home_ownership</th>\n",
       "      <th>...</th>\n",
       "      <th>revol_util</th>\n",
       "      <th>total_acc</th>\n",
       "      <th>out_prncp</th>\n",
       "      <th>out_prncp_inv</th>\n",
       "      <th>total_pymnt</th>\n",
       "      <th>total_pymnt_inv</th>\n",
       "      <th>total_rec_prncp</th>\n",
       "      <th>total_rec_int</th>\n",
       "      <th>recoveries</th>\n",
       "      <th>pub_rec_bankruptcies</th>\n",
       "    </tr>\n",
       "  </thead>\n",
       "  <tbody>\n",
       "    <tr>\n",
       "      <th>0</th>\n",
       "      <td>5000</td>\n",
       "      <td>5000</td>\n",
       "      <td>4975.0</td>\n",
       "      <td>36</td>\n",
       "      <td>10.65%</td>\n",
       "      <td>162.87</td>\n",
       "      <td>B</td>\n",
       "      <td>B2</td>\n",
       "      <td>10</td>\n",
       "      <td>RENT</td>\n",
       "      <td>...</td>\n",
       "      <td>83.70%</td>\n",
       "      <td>9</td>\n",
       "      <td>0.00</td>\n",
       "      <td>0.00</td>\n",
       "      <td>5863.155187</td>\n",
       "      <td>5833.84</td>\n",
       "      <td>5000.00</td>\n",
       "      <td>863.16</td>\n",
       "      <td>0.00</td>\n",
       "      <td>0.0</td>\n",
       "    </tr>\n",
       "    <tr>\n",
       "      <th>1</th>\n",
       "      <td>2500</td>\n",
       "      <td>2500</td>\n",
       "      <td>2500.0</td>\n",
       "      <td>60</td>\n",
       "      <td>15.27%</td>\n",
       "      <td>59.83</td>\n",
       "      <td>C</td>\n",
       "      <td>C4</td>\n",
       "      <td>1</td>\n",
       "      <td>RENT</td>\n",
       "      <td>...</td>\n",
       "      <td>9.40%</td>\n",
       "      <td>4</td>\n",
       "      <td>0.00</td>\n",
       "      <td>0.00</td>\n",
       "      <td>1008.710000</td>\n",
       "      <td>1008.71</td>\n",
       "      <td>456.46</td>\n",
       "      <td>435.17</td>\n",
       "      <td>117.08</td>\n",
       "      <td>0.0</td>\n",
       "    </tr>\n",
       "    <tr>\n",
       "      <th>2</th>\n",
       "      <td>2400</td>\n",
       "      <td>2400</td>\n",
       "      <td>2400.0</td>\n",
       "      <td>36</td>\n",
       "      <td>15.96%</td>\n",
       "      <td>84.33</td>\n",
       "      <td>C</td>\n",
       "      <td>C5</td>\n",
       "      <td>10</td>\n",
       "      <td>RENT</td>\n",
       "      <td>...</td>\n",
       "      <td>98.50%</td>\n",
       "      <td>10</td>\n",
       "      <td>0.00</td>\n",
       "      <td>0.00</td>\n",
       "      <td>3005.666844</td>\n",
       "      <td>3005.67</td>\n",
       "      <td>2400.00</td>\n",
       "      <td>605.67</td>\n",
       "      <td>0.00</td>\n",
       "      <td>0.0</td>\n",
       "    </tr>\n",
       "    <tr>\n",
       "      <th>3</th>\n",
       "      <td>10000</td>\n",
       "      <td>10000</td>\n",
       "      <td>10000.0</td>\n",
       "      <td>36</td>\n",
       "      <td>13.49%</td>\n",
       "      <td>339.31</td>\n",
       "      <td>C</td>\n",
       "      <td>C1</td>\n",
       "      <td>10</td>\n",
       "      <td>RENT</td>\n",
       "      <td>...</td>\n",
       "      <td>21%</td>\n",
       "      <td>37</td>\n",
       "      <td>0.00</td>\n",
       "      <td>0.00</td>\n",
       "      <td>12231.890000</td>\n",
       "      <td>12231.89</td>\n",
       "      <td>10000.00</td>\n",
       "      <td>2214.92</td>\n",
       "      <td>0.00</td>\n",
       "      <td>0.0</td>\n",
       "    </tr>\n",
       "    <tr>\n",
       "      <th>4</th>\n",
       "      <td>3000</td>\n",
       "      <td>3000</td>\n",
       "      <td>3000.0</td>\n",
       "      <td>60</td>\n",
       "      <td>12.69%</td>\n",
       "      <td>67.79</td>\n",
       "      <td>B</td>\n",
       "      <td>B5</td>\n",
       "      <td>1</td>\n",
       "      <td>RENT</td>\n",
       "      <td>...</td>\n",
       "      <td>53.90%</td>\n",
       "      <td>38</td>\n",
       "      <td>524.06</td>\n",
       "      <td>524.06</td>\n",
       "      <td>3513.330000</td>\n",
       "      <td>3513.33</td>\n",
       "      <td>2475.94</td>\n",
       "      <td>1037.39</td>\n",
       "      <td>0.00</td>\n",
       "      <td>0.0</td>\n",
       "    </tr>\n",
       "  </tbody>\n",
       "</table>\n",
       "<p>5 rows × 30 columns</p>\n",
       "</div>"
      ],
      "text/plain": [
       "   loan_amnt  funded_amnt  funded_amnt_inv term int_rate  installment grade  \\\n",
       "0       5000         5000           4975.0   36   10.65%       162.87     B   \n",
       "1       2500         2500           2500.0   60   15.27%        59.83     C   \n",
       "2       2400         2400           2400.0   36   15.96%        84.33     C   \n",
       "3      10000        10000          10000.0   36   13.49%       339.31     C   \n",
       "4       3000         3000           3000.0   60   12.69%        67.79     B   \n",
       "\n",
       "  sub_grade emp_length home_ownership  ...  revol_util total_acc out_prncp  \\\n",
       "0        B2         10           RENT  ...      83.70%         9      0.00   \n",
       "1        C4          1           RENT  ...       9.40%         4      0.00   \n",
       "2        C5         10           RENT  ...      98.50%        10      0.00   \n",
       "3        C1         10           RENT  ...         21%        37      0.00   \n",
       "4        B5          1           RENT  ...      53.90%        38    524.06   \n",
       "\n",
       "  out_prncp_inv   total_pymnt total_pymnt_inv total_rec_prncp  total_rec_int  \\\n",
       "0          0.00   5863.155187         5833.84         5000.00         863.16   \n",
       "1          0.00   1008.710000         1008.71          456.46         435.17   \n",
       "2          0.00   3005.666844         3005.67         2400.00         605.67   \n",
       "3          0.00  12231.890000        12231.89        10000.00        2214.92   \n",
       "4        524.06   3513.330000         3513.33         2475.94        1037.39   \n",
       "\n",
       "   recoveries  pub_rec_bankruptcies  \n",
       "0        0.00                   0.0  \n",
       "1      117.08                   0.0  \n",
       "2        0.00                   0.0  \n",
       "3        0.00                   0.0  \n",
       "4        0.00                   0.0  \n",
       "\n",
       "[5 rows x 30 columns]"
      ]
     },
     "execution_count": 24,
     "metadata": {},
     "output_type": "execute_result"
    }
   ],
   "source": [
    "# Standardizing term column by removing unwanted Strings from column\n",
    "loan_df['term'] = loan_df.term.str.extract('(\\d+)')\n",
    "loan_df.head()"
   ]
  },
  {
   "cell_type": "code",
   "execution_count": 25,
   "id": "conditional-latest",
   "metadata": {},
   "outputs": [],
   "source": [
    "# Standardizing column by removing '%', so that column can computable\n",
    "loan_df['int_rate'] = loan_df['int_rate'].apply(lambda x: pd.to_numeric(x.split(\"%\")[0]))\n",
    "loan_df['revol_util'] = loan_df['revol_util'].apply(lambda x: pd.to_numeric(x.split(\"%\")[0]))"
   ]
  },
  {
   "cell_type": "code",
   "execution_count": 26,
   "id": "stone-jimmy",
   "metadata": {},
   "outputs": [],
   "source": [
    "# Standardizing column to Date Year\n",
    "def convertToDate(x):\n",
    "    if int(x.split('-')[1]) > 22 and int(x.split('-')[1]) <= 99:\n",
    "        yy = ' 19'+x.split('-')[1]\n",
    "    else:\n",
    "        yy = ' 20'+x.split('-')[1]\n",
    "        \n",
    "    y = x.split('-')[0] + yy\n",
    "    return datetime.strftime(datetime.strptime(y, '%b %Y'), '%b %Y')\n",
    "\n",
    "loan_df['issue_d'] = loan_df['issue_d'].apply(lambda x: convertToDate(x))"
   ]
  },
  {
   "cell_type": "code",
   "execution_count": 27,
   "id": "growing-adjustment",
   "metadata": {},
   "outputs": [],
   "source": [
    "# converting Columns to same data type\n",
    "column = ['loan_amnt', 'funded_amnt', 'funded_amnt_inv', 'term', 'int_rate', 'installment', 'emp_length', 'annual_inc','dti','pub_rec','revol_bal','total_acc','out_prncp','out_prncp_inv','total_pymnt','total_pymnt_inv','total_rec_prncp','total_rec_int','recoveries','pub_rec_bankruptcies' ]\n",
    "loan_df[column] = loan_df[column].apply(pd.to_numeric)"
   ]
  },
  {
   "cell_type": "code",
   "execution_count": 28,
   "id": "minimal-reservation",
   "metadata": {},
   "outputs": [],
   "source": [
    "# Setting decimal places to 2\n",
    "loan_df['total_pymnt'] = loan_df['total_pymnt'].apply(lambda x: round(x,2))"
   ]
  },
  {
   "cell_type": "code",
   "execution_count": 29,
   "id": "altered-tribute",
   "metadata": {},
   "outputs": [
    {
     "data": {
      "text/html": [
       "<div>\n",
       "<style scoped>\n",
       "    .dataframe tbody tr th:only-of-type {\n",
       "        vertical-align: middle;\n",
       "    }\n",
       "\n",
       "    .dataframe tbody tr th {\n",
       "        vertical-align: top;\n",
       "    }\n",
       "\n",
       "    .dataframe thead th {\n",
       "        text-align: right;\n",
       "    }\n",
       "</style>\n",
       "<table border=\"1\" class=\"dataframe\">\n",
       "  <thead>\n",
       "    <tr style=\"text-align: right;\">\n",
       "      <th></th>\n",
       "      <th>loan_amnt</th>\n",
       "      <th>funded_amnt</th>\n",
       "      <th>funded_amnt_inv</th>\n",
       "      <th>term</th>\n",
       "      <th>int_rate</th>\n",
       "      <th>installment</th>\n",
       "      <th>grade</th>\n",
       "      <th>sub_grade</th>\n",
       "      <th>emp_length</th>\n",
       "      <th>home_ownership</th>\n",
       "      <th>annual_inc</th>\n",
       "      <th>verification_status</th>\n",
       "      <th>issue_d</th>\n",
       "      <th>loan_status</th>\n",
       "      <th>purpose</th>\n",
       "      <th>zip_code</th>\n",
       "      <th>addr_state</th>\n",
       "      <th>dti</th>\n",
       "      <th>pub_rec</th>\n",
       "      <th>revol_bal</th>\n",
       "      <th>revol_util</th>\n",
       "      <th>total_acc</th>\n",
       "      <th>out_prncp</th>\n",
       "      <th>out_prncp_inv</th>\n",
       "      <th>total_pymnt</th>\n",
       "      <th>total_pymnt_inv</th>\n",
       "      <th>total_rec_prncp</th>\n",
       "      <th>total_rec_int</th>\n",
       "      <th>recoveries</th>\n",
       "      <th>pub_rec_bankruptcies</th>\n",
       "    </tr>\n",
       "  </thead>\n",
       "  <tbody>\n",
       "    <tr>\n",
       "      <th>0</th>\n",
       "      <td>5000</td>\n",
       "      <td>5000</td>\n",
       "      <td>4975.0</td>\n",
       "      <td>36</td>\n",
       "      <td>10.65</td>\n",
       "      <td>162.87</td>\n",
       "      <td>B</td>\n",
       "      <td>B2</td>\n",
       "      <td>10</td>\n",
       "      <td>RENT</td>\n",
       "      <td>24000.0</td>\n",
       "      <td>Verified</td>\n",
       "      <td>Dec 2011</td>\n",
       "      <td>Fully Paid</td>\n",
       "      <td>credit_card</td>\n",
       "      <td>860</td>\n",
       "      <td>AZ</td>\n",
       "      <td>27.65</td>\n",
       "      <td>0</td>\n",
       "      <td>13648</td>\n",
       "      <td>83.7</td>\n",
       "      <td>9</td>\n",
       "      <td>0.00</td>\n",
       "      <td>0.00</td>\n",
       "      <td>5863.16</td>\n",
       "      <td>5833.84</td>\n",
       "      <td>5000.00</td>\n",
       "      <td>863.16</td>\n",
       "      <td>0.00</td>\n",
       "      <td>0.0</td>\n",
       "    </tr>\n",
       "    <tr>\n",
       "      <th>1</th>\n",
       "      <td>2500</td>\n",
       "      <td>2500</td>\n",
       "      <td>2500.0</td>\n",
       "      <td>60</td>\n",
       "      <td>15.27</td>\n",
       "      <td>59.83</td>\n",
       "      <td>C</td>\n",
       "      <td>C4</td>\n",
       "      <td>1</td>\n",
       "      <td>RENT</td>\n",
       "      <td>30000.0</td>\n",
       "      <td>Source Verified</td>\n",
       "      <td>Dec 2011</td>\n",
       "      <td>Charged Off</td>\n",
       "      <td>car</td>\n",
       "      <td>309</td>\n",
       "      <td>GA</td>\n",
       "      <td>1.00</td>\n",
       "      <td>0</td>\n",
       "      <td>1687</td>\n",
       "      <td>9.4</td>\n",
       "      <td>4</td>\n",
       "      <td>0.00</td>\n",
       "      <td>0.00</td>\n",
       "      <td>1008.71</td>\n",
       "      <td>1008.71</td>\n",
       "      <td>456.46</td>\n",
       "      <td>435.17</td>\n",
       "      <td>117.08</td>\n",
       "      <td>0.0</td>\n",
       "    </tr>\n",
       "    <tr>\n",
       "      <th>2</th>\n",
       "      <td>2400</td>\n",
       "      <td>2400</td>\n",
       "      <td>2400.0</td>\n",
       "      <td>36</td>\n",
       "      <td>15.96</td>\n",
       "      <td>84.33</td>\n",
       "      <td>C</td>\n",
       "      <td>C5</td>\n",
       "      <td>10</td>\n",
       "      <td>RENT</td>\n",
       "      <td>12252.0</td>\n",
       "      <td>Not Verified</td>\n",
       "      <td>Dec 2011</td>\n",
       "      <td>Fully Paid</td>\n",
       "      <td>small_business</td>\n",
       "      <td>606</td>\n",
       "      <td>IL</td>\n",
       "      <td>8.72</td>\n",
       "      <td>0</td>\n",
       "      <td>2956</td>\n",
       "      <td>98.5</td>\n",
       "      <td>10</td>\n",
       "      <td>0.00</td>\n",
       "      <td>0.00</td>\n",
       "      <td>3005.67</td>\n",
       "      <td>3005.67</td>\n",
       "      <td>2400.00</td>\n",
       "      <td>605.67</td>\n",
       "      <td>0.00</td>\n",
       "      <td>0.0</td>\n",
       "    </tr>\n",
       "    <tr>\n",
       "      <th>3</th>\n",
       "      <td>10000</td>\n",
       "      <td>10000</td>\n",
       "      <td>10000.0</td>\n",
       "      <td>36</td>\n",
       "      <td>13.49</td>\n",
       "      <td>339.31</td>\n",
       "      <td>C</td>\n",
       "      <td>C1</td>\n",
       "      <td>10</td>\n",
       "      <td>RENT</td>\n",
       "      <td>49200.0</td>\n",
       "      <td>Source Verified</td>\n",
       "      <td>Dec 2011</td>\n",
       "      <td>Fully Paid</td>\n",
       "      <td>other</td>\n",
       "      <td>917</td>\n",
       "      <td>CA</td>\n",
       "      <td>20.00</td>\n",
       "      <td>0</td>\n",
       "      <td>5598</td>\n",
       "      <td>21.0</td>\n",
       "      <td>37</td>\n",
       "      <td>0.00</td>\n",
       "      <td>0.00</td>\n",
       "      <td>12231.89</td>\n",
       "      <td>12231.89</td>\n",
       "      <td>10000.00</td>\n",
       "      <td>2214.92</td>\n",
       "      <td>0.00</td>\n",
       "      <td>0.0</td>\n",
       "    </tr>\n",
       "    <tr>\n",
       "      <th>4</th>\n",
       "      <td>3000</td>\n",
       "      <td>3000</td>\n",
       "      <td>3000.0</td>\n",
       "      <td>60</td>\n",
       "      <td>12.69</td>\n",
       "      <td>67.79</td>\n",
       "      <td>B</td>\n",
       "      <td>B5</td>\n",
       "      <td>1</td>\n",
       "      <td>RENT</td>\n",
       "      <td>80000.0</td>\n",
       "      <td>Source Verified</td>\n",
       "      <td>Dec 2011</td>\n",
       "      <td>Current</td>\n",
       "      <td>other</td>\n",
       "      <td>972</td>\n",
       "      <td>OR</td>\n",
       "      <td>17.94</td>\n",
       "      <td>0</td>\n",
       "      <td>27783</td>\n",
       "      <td>53.9</td>\n",
       "      <td>38</td>\n",
       "      <td>524.06</td>\n",
       "      <td>524.06</td>\n",
       "      <td>3513.33</td>\n",
       "      <td>3513.33</td>\n",
       "      <td>2475.94</td>\n",
       "      <td>1037.39</td>\n",
       "      <td>0.00</td>\n",
       "      <td>0.0</td>\n",
       "    </tr>\n",
       "    <tr>\n",
       "      <th>5</th>\n",
       "      <td>5000</td>\n",
       "      <td>5000</td>\n",
       "      <td>5000.0</td>\n",
       "      <td>36</td>\n",
       "      <td>7.90</td>\n",
       "      <td>156.46</td>\n",
       "      <td>A</td>\n",
       "      <td>A4</td>\n",
       "      <td>3</td>\n",
       "      <td>RENT</td>\n",
       "      <td>36000.0</td>\n",
       "      <td>Source Verified</td>\n",
       "      <td>Dec 2011</td>\n",
       "      <td>Fully Paid</td>\n",
       "      <td>wedding</td>\n",
       "      <td>852</td>\n",
       "      <td>AZ</td>\n",
       "      <td>11.20</td>\n",
       "      <td>0</td>\n",
       "      <td>7963</td>\n",
       "      <td>28.3</td>\n",
       "      <td>12</td>\n",
       "      <td>0.00</td>\n",
       "      <td>0.00</td>\n",
       "      <td>5632.21</td>\n",
       "      <td>5632.21</td>\n",
       "      <td>5000.00</td>\n",
       "      <td>632.21</td>\n",
       "      <td>0.00</td>\n",
       "      <td>0.0</td>\n",
       "    </tr>\n",
       "    <tr>\n",
       "      <th>6</th>\n",
       "      <td>7000</td>\n",
       "      <td>7000</td>\n",
       "      <td>7000.0</td>\n",
       "      <td>60</td>\n",
       "      <td>15.96</td>\n",
       "      <td>170.08</td>\n",
       "      <td>C</td>\n",
       "      <td>C5</td>\n",
       "      <td>8</td>\n",
       "      <td>RENT</td>\n",
       "      <td>47004.0</td>\n",
       "      <td>Not Verified</td>\n",
       "      <td>Dec 2011</td>\n",
       "      <td>Fully Paid</td>\n",
       "      <td>debt_consolidation</td>\n",
       "      <td>280</td>\n",
       "      <td>NC</td>\n",
       "      <td>23.51</td>\n",
       "      <td>0</td>\n",
       "      <td>17726</td>\n",
       "      <td>85.6</td>\n",
       "      <td>11</td>\n",
       "      <td>0.00</td>\n",
       "      <td>0.00</td>\n",
       "      <td>10110.84</td>\n",
       "      <td>10110.84</td>\n",
       "      <td>6985.61</td>\n",
       "      <td>3125.23</td>\n",
       "      <td>0.00</td>\n",
       "      <td>0.0</td>\n",
       "    </tr>\n",
       "    <tr>\n",
       "      <th>7</th>\n",
       "      <td>3000</td>\n",
       "      <td>3000</td>\n",
       "      <td>3000.0</td>\n",
       "      <td>36</td>\n",
       "      <td>18.64</td>\n",
       "      <td>109.43</td>\n",
       "      <td>E</td>\n",
       "      <td>E1</td>\n",
       "      <td>9</td>\n",
       "      <td>RENT</td>\n",
       "      <td>48000.0</td>\n",
       "      <td>Source Verified</td>\n",
       "      <td>Dec 2011</td>\n",
       "      <td>Fully Paid</td>\n",
       "      <td>car</td>\n",
       "      <td>900</td>\n",
       "      <td>CA</td>\n",
       "      <td>5.35</td>\n",
       "      <td>0</td>\n",
       "      <td>8221</td>\n",
       "      <td>87.5</td>\n",
       "      <td>4</td>\n",
       "      <td>0.00</td>\n",
       "      <td>0.00</td>\n",
       "      <td>3939.14</td>\n",
       "      <td>3939.14</td>\n",
       "      <td>3000.00</td>\n",
       "      <td>939.14</td>\n",
       "      <td>0.00</td>\n",
       "      <td>0.0</td>\n",
       "    </tr>\n",
       "    <tr>\n",
       "      <th>8</th>\n",
       "      <td>5600</td>\n",
       "      <td>5600</td>\n",
       "      <td>5600.0</td>\n",
       "      <td>60</td>\n",
       "      <td>21.28</td>\n",
       "      <td>152.39</td>\n",
       "      <td>F</td>\n",
       "      <td>F2</td>\n",
       "      <td>4</td>\n",
       "      <td>OWN</td>\n",
       "      <td>40000.0</td>\n",
       "      <td>Source Verified</td>\n",
       "      <td>Dec 2011</td>\n",
       "      <td>Charged Off</td>\n",
       "      <td>small_business</td>\n",
       "      <td>958</td>\n",
       "      <td>CA</td>\n",
       "      <td>5.55</td>\n",
       "      <td>0</td>\n",
       "      <td>5210</td>\n",
       "      <td>32.6</td>\n",
       "      <td>13</td>\n",
       "      <td>0.00</td>\n",
       "      <td>0.00</td>\n",
       "      <td>646.02</td>\n",
       "      <td>646.02</td>\n",
       "      <td>162.02</td>\n",
       "      <td>294.94</td>\n",
       "      <td>189.06</td>\n",
       "      <td>0.0</td>\n",
       "    </tr>\n",
       "    <tr>\n",
       "      <th>9</th>\n",
       "      <td>5375</td>\n",
       "      <td>5375</td>\n",
       "      <td>5350.0</td>\n",
       "      <td>60</td>\n",
       "      <td>12.69</td>\n",
       "      <td>121.45</td>\n",
       "      <td>B</td>\n",
       "      <td>B5</td>\n",
       "      <td>1</td>\n",
       "      <td>RENT</td>\n",
       "      <td>15000.0</td>\n",
       "      <td>Verified</td>\n",
       "      <td>Dec 2011</td>\n",
       "      <td>Charged Off</td>\n",
       "      <td>other</td>\n",
       "      <td>774</td>\n",
       "      <td>TX</td>\n",
       "      <td>18.08</td>\n",
       "      <td>0</td>\n",
       "      <td>9279</td>\n",
       "      <td>36.5</td>\n",
       "      <td>3</td>\n",
       "      <td>0.00</td>\n",
       "      <td>0.00</td>\n",
       "      <td>1476.19</td>\n",
       "      <td>1469.34</td>\n",
       "      <td>673.48</td>\n",
       "      <td>533.42</td>\n",
       "      <td>269.29</td>\n",
       "      <td>0.0</td>\n",
       "    </tr>\n",
       "  </tbody>\n",
       "</table>\n",
       "</div>"
      ],
      "text/plain": [
       "   loan_amnt  funded_amnt  funded_amnt_inv  term  int_rate  installment grade  \\\n",
       "0       5000         5000           4975.0    36     10.65       162.87     B   \n",
       "1       2500         2500           2500.0    60     15.27        59.83     C   \n",
       "2       2400         2400           2400.0    36     15.96        84.33     C   \n",
       "3      10000        10000          10000.0    36     13.49       339.31     C   \n",
       "4       3000         3000           3000.0    60     12.69        67.79     B   \n",
       "5       5000         5000           5000.0    36      7.90       156.46     A   \n",
       "6       7000         7000           7000.0    60     15.96       170.08     C   \n",
       "7       3000         3000           3000.0    36     18.64       109.43     E   \n",
       "8       5600         5600           5600.0    60     21.28       152.39     F   \n",
       "9       5375         5375           5350.0    60     12.69       121.45     B   \n",
       "\n",
       "  sub_grade  emp_length home_ownership  annual_inc verification_status  \\\n",
       "0        B2          10           RENT     24000.0            Verified   \n",
       "1        C4           1           RENT     30000.0     Source Verified   \n",
       "2        C5          10           RENT     12252.0        Not Verified   \n",
       "3        C1          10           RENT     49200.0     Source Verified   \n",
       "4        B5           1           RENT     80000.0     Source Verified   \n",
       "5        A4           3           RENT     36000.0     Source Verified   \n",
       "6        C5           8           RENT     47004.0        Not Verified   \n",
       "7        E1           9           RENT     48000.0     Source Verified   \n",
       "8        F2           4            OWN     40000.0     Source Verified   \n",
       "9        B5           1           RENT     15000.0            Verified   \n",
       "\n",
       "    issue_d  loan_status             purpose zip_code addr_state    dti  \\\n",
       "0  Dec 2011   Fully Paid         credit_card      860         AZ  27.65   \n",
       "1  Dec 2011  Charged Off                 car      309         GA   1.00   \n",
       "2  Dec 2011   Fully Paid      small_business      606         IL   8.72   \n",
       "3  Dec 2011   Fully Paid               other      917         CA  20.00   \n",
       "4  Dec 2011      Current               other      972         OR  17.94   \n",
       "5  Dec 2011   Fully Paid             wedding      852         AZ  11.20   \n",
       "6  Dec 2011   Fully Paid  debt_consolidation      280         NC  23.51   \n",
       "7  Dec 2011   Fully Paid                 car      900         CA   5.35   \n",
       "8  Dec 2011  Charged Off      small_business      958         CA   5.55   \n",
       "9  Dec 2011  Charged Off               other      774         TX  18.08   \n",
       "\n",
       "   pub_rec  revol_bal  revol_util  total_acc  out_prncp  out_prncp_inv  \\\n",
       "0        0      13648        83.7          9       0.00           0.00   \n",
       "1        0       1687         9.4          4       0.00           0.00   \n",
       "2        0       2956        98.5         10       0.00           0.00   \n",
       "3        0       5598        21.0         37       0.00           0.00   \n",
       "4        0      27783        53.9         38     524.06         524.06   \n",
       "5        0       7963        28.3         12       0.00           0.00   \n",
       "6        0      17726        85.6         11       0.00           0.00   \n",
       "7        0       8221        87.5          4       0.00           0.00   \n",
       "8        0       5210        32.6         13       0.00           0.00   \n",
       "9        0       9279        36.5          3       0.00           0.00   \n",
       "\n",
       "   total_pymnt  total_pymnt_inv  total_rec_prncp  total_rec_int  recoveries  \\\n",
       "0      5863.16          5833.84          5000.00         863.16        0.00   \n",
       "1      1008.71          1008.71           456.46         435.17      117.08   \n",
       "2      3005.67          3005.67          2400.00         605.67        0.00   \n",
       "3     12231.89         12231.89         10000.00        2214.92        0.00   \n",
       "4      3513.33          3513.33          2475.94        1037.39        0.00   \n",
       "5      5632.21          5632.21          5000.00         632.21        0.00   \n",
       "6     10110.84         10110.84          6985.61        3125.23        0.00   \n",
       "7      3939.14          3939.14          3000.00         939.14        0.00   \n",
       "8       646.02           646.02           162.02         294.94      189.06   \n",
       "9      1476.19          1469.34           673.48         533.42      269.29   \n",
       "\n",
       "   pub_rec_bankruptcies  \n",
       "0                   0.0  \n",
       "1                   0.0  \n",
       "2                   0.0  \n",
       "3                   0.0  \n",
       "4                   0.0  \n",
       "5                   0.0  \n",
       "6                   0.0  \n",
       "7                   0.0  \n",
       "8                   0.0  \n",
       "9                   0.0  "
      ]
     },
     "execution_count": 29,
     "metadata": {},
     "output_type": "execute_result"
    }
   ],
   "source": [
    "# setting to view max columns\n",
    "pd.set_option('display.max_columns', None)\n",
    "loan_df.head(10)"
   ]
  },
  {
   "cell_type": "code",
   "execution_count": 30,
   "id": "likely-label",
   "metadata": {},
   "outputs": [
    {
     "name": "stdout",
     "output_type": "stream",
     "text": [
      "<class 'pandas.core.frame.DataFrame'>\n",
      "Int64Index: 39611 entries, 0 to 39665\n",
      "Data columns (total 30 columns):\n",
      " #   Column                Non-Null Count  Dtype  \n",
      "---  ------                --------------  -----  \n",
      " 0   loan_amnt             39611 non-null  int64  \n",
      " 1   funded_amnt           39611 non-null  int64  \n",
      " 2   funded_amnt_inv       39611 non-null  float64\n",
      " 3   term                  39611 non-null  int64  \n",
      " 4   int_rate              39611 non-null  float64\n",
      " 5   installment           39611 non-null  float64\n",
      " 6   grade                 39611 non-null  object \n",
      " 7   sub_grade             39611 non-null  object \n",
      " 8   emp_length            39611 non-null  int64  \n",
      " 9   home_ownership        39611 non-null  object \n",
      " 10  annual_inc            39611 non-null  float64\n",
      " 11  verification_status   39611 non-null  object \n",
      " 12  issue_d               39611 non-null  object \n",
      " 13  loan_status           39611 non-null  object \n",
      " 14  purpose               39611 non-null  object \n",
      " 15  zip_code              39611 non-null  object \n",
      " 16  addr_state            39611 non-null  object \n",
      " 17  dti                   39611 non-null  float64\n",
      " 18  pub_rec               39611 non-null  int64  \n",
      " 19  revol_bal             39611 non-null  int64  \n",
      " 20  revol_util            39611 non-null  float64\n",
      " 21  total_acc             39611 non-null  int64  \n",
      " 22  out_prncp             39611 non-null  float64\n",
      " 23  out_prncp_inv         39611 non-null  float64\n",
      " 24  total_pymnt           39611 non-null  float64\n",
      " 25  total_pymnt_inv       39611 non-null  float64\n",
      " 26  total_rec_prncp       39611 non-null  float64\n",
      " 27  total_rec_int         39611 non-null  float64\n",
      " 28  recoveries            39611 non-null  float64\n",
      " 29  pub_rec_bankruptcies  39611 non-null  float64\n",
      "dtypes: float64(14), int64(7), object(9)\n",
      "memory usage: 10.4+ MB\n"
     ]
    }
   ],
   "source": [
    "loan_df.info()"
   ]
  },
  {
   "cell_type": "markdown",
   "id": "closing-ladder",
   "metadata": {},
   "source": [
    "#### Data Cleaning 3.4: Remove Outliers \n",
    "Checking outliers for uncategorised variable"
   ]
  },
  {
   "cell_type": "code",
   "execution_count": 31,
   "id": "headed-frederick",
   "metadata": {
    "scrolled": false
   },
   "outputs": [
    {
     "name": "stdout",
     "output_type": "stream",
     "text": [
      "AxesSubplot(0.125,0.125;0.775x0.755)\n"
     ]
    },
    {
     "data": {
      "image/png": "[encoded data removed]",
      "text/plain": [
       "<Figure size 432x288 with 1 Axes>"
      ]
     },
     "metadata": {
      "needs_background": "light"
     },
     "output_type": "display_data"
    }
   ],
   "source": [
    "t = ['loan_amnt','funded_amnt', 'funded_amnt_inv', 'int_rate', 'installment','dti','annual_inc','total_pymnt','total_pymnt_inv']\n",
    "print(sns.boxplot(loan_df[t[0]]))"
   ]
  },
  {
   "cell_type": "code",
   "execution_count": 32,
   "id": "satellite-finland",
   "metadata": {},
   "outputs": [
    {
     "name": "stdout",
     "output_type": "stream",
     "text": [
      "AxesSubplot(0.125,0.125;0.775x0.755)\n"
     ]
    },
    {
     "data": {
      "image/png": "[encoded data removed]",
      "text/plain": [
       "<Figure size 432x288 with 1 Axes>"
      ]
     },
     "metadata": {
      "needs_background": "light"
     },
     "output_type": "display_data"
    }
   ],
   "source": [
    "print(sns.boxplot(loan_df[t[1]]))"
   ]
  },
  {
   "cell_type": "code",
   "execution_count": 33,
   "id": "broke-battery",
   "metadata": {},
   "outputs": [
    {
     "name": "stdout",
     "output_type": "stream",
     "text": [
      "AxesSubplot(0.125,0.125;0.775x0.755)\n"
     ]
    },
    {
     "data": {
      "image/png": "[encoded data removed]",
      "text/plain": [
       "<Figure size 432x288 with 1 Axes>"
      ]
     },
     "metadata": {
      "needs_background": "light"
     },
     "output_type": "display_data"
    }
   ],
   "source": [
    "print(sns.boxplot(loan_df[t[2]]))"
   ]
  },
  {
   "cell_type": "code",
   "execution_count": 34,
   "id": "given-trial",
   "metadata": {},
   "outputs": [
    {
     "name": "stdout",
     "output_type": "stream",
     "text": [
      "AxesSubplot(0.125,0.125;0.775x0.755)\n"
     ]
    },
    {
     "data": {
      "image/png": "[encoded data removed]",
      "text/plain": [
       "<Figure size 432x288 with 1 Axes>"
      ]
     },
     "metadata": {
      "needs_background": "light"
     },
     "output_type": "display_data"
    }
   ],
   "source": [
    "print(sns.boxplot(loan_df[t[3]]))"
   ]
  },
  {
   "cell_type": "code",
   "execution_count": 35,
   "id": "worldwide-production",
   "metadata": {},
   "outputs": [
    {
     "name": "stdout",
     "output_type": "stream",
     "text": [
      "AxesSubplot(0.125,0.125;0.775x0.755)\n"
     ]
    },
    {
     "data": {
      "image/png": "[encoded data removed]",
      "text/plain": [
       "<Figure size 432x288 with 1 Axes>"
      ]
     },
     "metadata": {
      "needs_background": "light"
     },
     "output_type": "display_data"
    }
   ],
   "source": [
    "print(sns.boxplot(loan_df[t[4]]))"
   ]
  },
  {
   "cell_type": "code",
   "execution_count": 36,
   "id": "sufficient-andrews",
   "metadata": {},
   "outputs": [
    {
     "name": "stdout",
     "output_type": "stream",
     "text": [
      "AxesSubplot(0.125,0.125;0.775x0.755)\n"
     ]
    },
    {
     "data": {
      "image/png": "[encoded data removed]",
      "text/plain": [
       "<Figure size 432x288 with 1 Axes>"
      ]
     },
     "metadata": {
      "needs_background": "light"
     },
     "output_type": "display_data"
    }
   ],
   "source": [
    "print(sns.boxplot(loan_df[t[5]]))"
   ]
  },
  {
   "cell_type": "code",
   "execution_count": 37,
   "id": "developed-floating",
   "metadata": {},
   "outputs": [
    {
     "name": "stdout",
     "output_type": "stream",
     "text": [
      "AxesSubplot(0.125,0.125;0.775x0.755)\n"
     ]
    },
    {
     "data": {
      "image/png": "[encoded data removed]",
      "text/plain": [
       "<Figure size 432x288 with 1 Axes>"
      ]
     },
     "metadata": {
      "needs_background": "light"
     },
     "output_type": "display_data"
    }
   ],
   "source": [
    "print(sns.boxplot(loan_df[t[6]]))"
   ]
  },
  {
   "cell_type": "code",
   "execution_count": 38,
   "id": "engaged-cassette",
   "metadata": {},
   "outputs": [
    {
     "name": "stdout",
     "output_type": "stream",
     "text": [
      "AxesSubplot(0.125,0.125;0.775x0.755)\n"
     ]
    },
    {
     "data": {
      "image/png": "[encoded data removed]",
      "text/plain": [
       "<Figure size 432x288 with 1 Axes>"
      ]
     },
     "metadata": {
      "needs_background": "light"
     },
     "output_type": "display_data"
    }
   ],
   "source": [
    "print(sns.boxplot(loan_df[t[7]]))"
   ]
  },
  {
   "cell_type": "code",
   "execution_count": 39,
   "id": "plain-weather",
   "metadata": {},
   "outputs": [
    {
     "name": "stdout",
     "output_type": "stream",
     "text": [
      "AxesSubplot(0.125,0.125;0.775x0.755)\n"
     ]
    },
    {
     "data": {
      "image/png": "[encoded data removed]",
      "text/plain": [
       "<Figure size 432x288 with 1 Axes>"
      ]
     },
     "metadata": {
      "needs_background": "light"
     },
     "output_type": "display_data"
    }
   ],
   "source": [
    "print(sns.boxplot(loan_df[t[8]]))"
   ]
  },
  {
   "cell_type": "markdown",
   "id": "tamil-bankruptcy",
   "metadata": {},
   "source": [
    "### Outliers needs to be handled for annual_inc"
   ]
  },
  {
   "cell_type": "code",
   "execution_count": 41,
   "id": "skilled-delta",
   "metadata": {},
   "outputs": [
    {
     "name": "stdout",
     "output_type": "stream",
     "text": [
      "AxesSubplot(0.125,0.125;0.775x0.755)\n"
     ]
    },
    {
     "data": {
      "image/png": "[encoded data removed]",
      "text/plain": [
       "<Figure size 432x288 with 1 Axes>"
      ]
     },
     "metadata": {
      "needs_background": "light"
     },
     "output_type": "display_data"
    }
   ],
   "source": [
    "loan_df = loan_df[loan_df.annual_inc <= loan_df['annual_inc'].quantile(0.99)]\n",
    "print(sns.boxplot(loan_df[t[6]]))"
   ]
  },
  {
   "cell_type": "markdown",
   "id": "mexican-employment",
   "metadata": {},
   "source": [
    "## Data Cleaning 4: Invalid Values\n",
    "#### Data Cleaning 4.1: Encode unicode properly\n",
    "Not Applicable\n",
    "#### Data Cleaning 4.2: Convert Incorrect Data Types\n",
    "#### Data Cleaning 4.3: Convert Values that go Beyong Range\n",
    "#### Data Cleaning 4.4: Correct Values that not in list\n",
    "#### Data Cleaning 4.5: Correct Wrong Structure\n",
    "#### Data Cleaning 4.6: Validate Internal rules"
   ]
  },
  {
   "cell_type": "code",
   "execution_count": 45,
   "id": "miniature-effectiveness",
   "metadata": {},
   "outputs": [
    {
     "data": {
      "text/html": [
       "<div>\n",
       "<style scoped>\n",
       "    .dataframe tbody tr th:only-of-type {\n",
       "        vertical-align: middle;\n",
       "    }\n",
       "\n",
       "    .dataframe tbody tr th {\n",
       "        vertical-align: top;\n",
       "    }\n",
       "\n",
       "    .dataframe thead th {\n",
       "        text-align: right;\n",
       "    }\n",
       "</style>\n",
       "<table border=\"1\" class=\"dataframe\">\n",
       "  <thead>\n",
       "    <tr style=\"text-align: right;\">\n",
       "      <th></th>\n",
       "      <th>loan_amnt</th>\n",
       "      <th>funded_amnt</th>\n",
       "      <th>funded_amnt_inv</th>\n",
       "      <th>term</th>\n",
       "      <th>int_rate</th>\n",
       "      <th>installment</th>\n",
       "      <th>grade</th>\n",
       "      <th>sub_grade</th>\n",
       "      <th>emp_length</th>\n",
       "      <th>home_ownership</th>\n",
       "      <th>annual_inc</th>\n",
       "      <th>verification_status</th>\n",
       "      <th>issue_d</th>\n",
       "      <th>loan_status</th>\n",
       "      <th>purpose</th>\n",
       "      <th>zip_code</th>\n",
       "      <th>addr_state</th>\n",
       "      <th>dti</th>\n",
       "      <th>pub_rec</th>\n",
       "      <th>revol_bal</th>\n",
       "      <th>revol_util</th>\n",
       "      <th>total_acc</th>\n",
       "      <th>out_prncp</th>\n",
       "      <th>out_prncp_inv</th>\n",
       "      <th>total_pymnt</th>\n",
       "      <th>total_pymnt_inv</th>\n",
       "      <th>total_rec_prncp</th>\n",
       "      <th>total_rec_int</th>\n",
       "      <th>recoveries</th>\n",
       "      <th>pub_rec_bankruptcies</th>\n",
       "    </tr>\n",
       "  </thead>\n",
       "  <tbody>\n",
       "    <tr>\n",
       "      <th>0</th>\n",
       "      <td>5000</td>\n",
       "      <td>5000</td>\n",
       "      <td>4975.0</td>\n",
       "      <td>36</td>\n",
       "      <td>10.65</td>\n",
       "      <td>162.87</td>\n",
       "      <td>B</td>\n",
       "      <td>B2</td>\n",
       "      <td>10</td>\n",
       "      <td>RENT</td>\n",
       "      <td>24000.0</td>\n",
       "      <td>Verified</td>\n",
       "      <td>Dec 2011</td>\n",
       "      <td>Fully Paid</td>\n",
       "      <td>credit_card</td>\n",
       "      <td>860</td>\n",
       "      <td>AZ</td>\n",
       "      <td>27.65</td>\n",
       "      <td>0</td>\n",
       "      <td>13648</td>\n",
       "      <td>83.7</td>\n",
       "      <td>9</td>\n",
       "      <td>0.00</td>\n",
       "      <td>0.00</td>\n",
       "      <td>5863.16</td>\n",
       "      <td>5833.84</td>\n",
       "      <td>5000.00</td>\n",
       "      <td>863.16</td>\n",
       "      <td>0.00</td>\n",
       "      <td>0.0</td>\n",
       "    </tr>\n",
       "    <tr>\n",
       "      <th>1</th>\n",
       "      <td>2500</td>\n",
       "      <td>2500</td>\n",
       "      <td>2500.0</td>\n",
       "      <td>60</td>\n",
       "      <td>15.27</td>\n",
       "      <td>59.83</td>\n",
       "      <td>C</td>\n",
       "      <td>C4</td>\n",
       "      <td>1</td>\n",
       "      <td>RENT</td>\n",
       "      <td>30000.0</td>\n",
       "      <td>Source Verified</td>\n",
       "      <td>Dec 2011</td>\n",
       "      <td>Charged Off</td>\n",
       "      <td>car</td>\n",
       "      <td>309</td>\n",
       "      <td>GA</td>\n",
       "      <td>1.00</td>\n",
       "      <td>0</td>\n",
       "      <td>1687</td>\n",
       "      <td>9.4</td>\n",
       "      <td>4</td>\n",
       "      <td>0.00</td>\n",
       "      <td>0.00</td>\n",
       "      <td>1008.71</td>\n",
       "      <td>1008.71</td>\n",
       "      <td>456.46</td>\n",
       "      <td>435.17</td>\n",
       "      <td>117.08</td>\n",
       "      <td>0.0</td>\n",
       "    </tr>\n",
       "    <tr>\n",
       "      <th>2</th>\n",
       "      <td>2400</td>\n",
       "      <td>2400</td>\n",
       "      <td>2400.0</td>\n",
       "      <td>36</td>\n",
       "      <td>15.96</td>\n",
       "      <td>84.33</td>\n",
       "      <td>C</td>\n",
       "      <td>C5</td>\n",
       "      <td>10</td>\n",
       "      <td>RENT</td>\n",
       "      <td>12252.0</td>\n",
       "      <td>Not Verified</td>\n",
       "      <td>Dec 2011</td>\n",
       "      <td>Fully Paid</td>\n",
       "      <td>small_business</td>\n",
       "      <td>606</td>\n",
       "      <td>IL</td>\n",
       "      <td>8.72</td>\n",
       "      <td>0</td>\n",
       "      <td>2956</td>\n",
       "      <td>98.5</td>\n",
       "      <td>10</td>\n",
       "      <td>0.00</td>\n",
       "      <td>0.00</td>\n",
       "      <td>3005.67</td>\n",
       "      <td>3005.67</td>\n",
       "      <td>2400.00</td>\n",
       "      <td>605.67</td>\n",
       "      <td>0.00</td>\n",
       "      <td>0.0</td>\n",
       "    </tr>\n",
       "    <tr>\n",
       "      <th>3</th>\n",
       "      <td>10000</td>\n",
       "      <td>10000</td>\n",
       "      <td>10000.0</td>\n",
       "      <td>36</td>\n",
       "      <td>13.49</td>\n",
       "      <td>339.31</td>\n",
       "      <td>C</td>\n",
       "      <td>C1</td>\n",
       "      <td>10</td>\n",
       "      <td>RENT</td>\n",
       "      <td>49200.0</td>\n",
       "      <td>Source Verified</td>\n",
       "      <td>Dec 2011</td>\n",
       "      <td>Fully Paid</td>\n",
       "      <td>other</td>\n",
       "      <td>917</td>\n",
       "      <td>CA</td>\n",
       "      <td>20.00</td>\n",
       "      <td>0</td>\n",
       "      <td>5598</td>\n",
       "      <td>21.0</td>\n",
       "      <td>37</td>\n",
       "      <td>0.00</td>\n",
       "      <td>0.00</td>\n",
       "      <td>12231.89</td>\n",
       "      <td>12231.89</td>\n",
       "      <td>10000.00</td>\n",
       "      <td>2214.92</td>\n",
       "      <td>0.00</td>\n",
       "      <td>0.0</td>\n",
       "    </tr>\n",
       "    <tr>\n",
       "      <th>4</th>\n",
       "      <td>3000</td>\n",
       "      <td>3000</td>\n",
       "      <td>3000.0</td>\n",
       "      <td>60</td>\n",
       "      <td>12.69</td>\n",
       "      <td>67.79</td>\n",
       "      <td>B</td>\n",
       "      <td>B5</td>\n",
       "      <td>1</td>\n",
       "      <td>RENT</td>\n",
       "      <td>80000.0</td>\n",
       "      <td>Source Verified</td>\n",
       "      <td>Dec 2011</td>\n",
       "      <td>Current</td>\n",
       "      <td>other</td>\n",
       "      <td>972</td>\n",
       "      <td>OR</td>\n",
       "      <td>17.94</td>\n",
       "      <td>0</td>\n",
       "      <td>27783</td>\n",
       "      <td>53.9</td>\n",
       "      <td>38</td>\n",
       "      <td>524.06</td>\n",
       "      <td>524.06</td>\n",
       "      <td>3513.33</td>\n",
       "      <td>3513.33</td>\n",
       "      <td>2475.94</td>\n",
       "      <td>1037.39</td>\n",
       "      <td>0.00</td>\n",
       "      <td>0.0</td>\n",
       "    </tr>\n",
       "  </tbody>\n",
       "</table>\n",
       "</div>"
      ],
      "text/plain": [
       "   loan_amnt  funded_amnt  funded_amnt_inv  term  int_rate  installment grade  \\\n",
       "0       5000         5000           4975.0    36     10.65       162.87     B   \n",
       "1       2500         2500           2500.0    60     15.27        59.83     C   \n",
       "2       2400         2400           2400.0    36     15.96        84.33     C   \n",
       "3      10000        10000          10000.0    36     13.49       339.31     C   \n",
       "4       3000         3000           3000.0    60     12.69        67.79     B   \n",
       "\n",
       "  sub_grade  emp_length home_ownership  annual_inc verification_status  \\\n",
       "0        B2          10           RENT     24000.0            Verified   \n",
       "1        C4           1           RENT     30000.0     Source Verified   \n",
       "2        C5          10           RENT     12252.0        Not Verified   \n",
       "3        C1          10           RENT     49200.0     Source Verified   \n",
       "4        B5           1           RENT     80000.0     Source Verified   \n",
       "\n",
       "    issue_d  loan_status         purpose zip_code addr_state    dti  pub_rec  \\\n",
       "0  Dec 2011   Fully Paid     credit_card      860         AZ  27.65        0   \n",
       "1  Dec 2011  Charged Off             car      309         GA   1.00        0   \n",
       "2  Dec 2011   Fully Paid  small_business      606         IL   8.72        0   \n",
       "3  Dec 2011   Fully Paid           other      917         CA  20.00        0   \n",
       "4  Dec 2011      Current           other      972         OR  17.94        0   \n",
       "\n",
       "   revol_bal  revol_util  total_acc  out_prncp  out_prncp_inv  total_pymnt  \\\n",
       "0      13648        83.7          9       0.00           0.00      5863.16   \n",
       "1       1687         9.4          4       0.00           0.00      1008.71   \n",
       "2       2956        98.5         10       0.00           0.00      3005.67   \n",
       "3       5598        21.0         37       0.00           0.00     12231.89   \n",
       "4      27783        53.9         38     524.06         524.06      3513.33   \n",
       "\n",
       "   total_pymnt_inv  total_rec_prncp  total_rec_int  recoveries  \\\n",
       "0          5833.84          5000.00         863.16        0.00   \n",
       "1          1008.71           456.46         435.17      117.08   \n",
       "2          3005.67          2400.00         605.67        0.00   \n",
       "3         12231.89         10000.00        2214.92        0.00   \n",
       "4          3513.33          2475.94        1037.39        0.00   \n",
       "\n",
       "   pub_rec_bankruptcies  \n",
       "0                   0.0  \n",
       "1                   0.0  \n",
       "2                   0.0  \n",
       "3                   0.0  \n",
       "4                   0.0  "
      ]
     },
     "execution_count": 45,
     "metadata": {},
     "output_type": "execute_result"
    }
   ],
   "source": [
    "loan_df.head()"
   ]
  },
  {
   "cell_type": "code",
   "execution_count": 47,
   "id": "selected-artist",
   "metadata": {},
   "outputs": [
    {
     "data": {
      "text/plain": [
       "B    11911\n",
       "A     9996\n",
       "C     7989\n",
       "D     5225\n",
       "E     2772\n",
       "F     1017\n",
       "G      304\n",
       "Name: grade, dtype: int64"
      ]
     },
     "execution_count": 47,
     "metadata": {},
     "output_type": "execute_result"
    }
   ],
   "source": [
    "loan_df['grade'].value_counts()"
   ]
  },
  {
   "cell_type": "code",
   "execution_count": 48,
   "id": "fatty-pricing",
   "metadata": {},
   "outputs": [
    {
     "data": {
      "text/plain": [
       "B3    2883\n",
       "A4    2862\n",
       "A5    2718\n",
       "B5    2685\n",
       "B4    2494\n",
       "C1    2107\n",
       "B2    2033\n",
       "C2    1983\n",
       "B1    1816\n",
       "A3    1797\n",
       "C3    1508\n",
       "A2    1488\n",
       "D2    1327\n",
       "C4    1225\n",
       "C5    1166\n",
       "D3    1155\n",
       "A1    1131\n",
       "D4     967\n",
       "D1     916\n",
       "D5     860\n",
       "E1     751\n",
       "E2     641\n",
       "E3     539\n",
       "E4     447\n",
       "E5     394\n",
       "F1     320\n",
       "F2     245\n",
       "F3     179\n",
       "F4     161\n",
       "F5     112\n",
       "G1     101\n",
       "G2      74\n",
       "G4      53\n",
       "G3      47\n",
       "G5      29\n",
       "Name: sub_grade, dtype: int64"
      ]
     },
     "execution_count": 48,
     "metadata": {},
     "output_type": "execute_result"
    }
   ],
   "source": [
    "loan_df['sub_grade'].value_counts()"
   ]
  },
  {
   "cell_type": "code",
   "execution_count": 49,
   "id": "noble-highlight",
   "metadata": {},
   "outputs": [
    {
     "data": {
      "text/plain": [
       "10    9803\n",
       "1     7721\n",
       "2     4330\n",
       "3     4051\n",
       "4     3399\n",
       "5     3249\n",
       "6     2204\n",
       "7     1754\n",
       "8     1458\n",
       "9     1245\n",
       "Name: emp_length, dtype: int64"
      ]
     },
     "execution_count": 49,
     "metadata": {},
     "output_type": "execute_result"
    }
   ],
   "source": [
    "loan_df['emp_length'].value_counts()"
   ]
  },
  {
   "cell_type": "code",
   "execution_count": 51,
   "id": "guided-father",
   "metadata": {},
   "outputs": [
    {
     "data": {
      "text/plain": [
       "Fully Paid     32526\n",
       "Charged Off     5562\n",
       "Current         1126\n",
       "Name: loan_status, dtype: int64"
      ]
     },
     "execution_count": 51,
     "metadata": {},
     "output_type": "execute_result"
    }
   ],
   "source": [
    "loan_df['loan_status'].value_counts()"
   ]
  },
  {
   "cell_type": "markdown",
   "id": "willing-brake",
   "metadata": {},
   "source": [
    "'Current' loans can be ignored as we are workng to analyse patterens between Fully Paid and Charged Off"
   ]
  },
  {
   "cell_type": "code",
   "execution_count": 54,
   "id": "swiss-island",
   "metadata": {},
   "outputs": [],
   "source": [
    "loan_df.drop(loan_df[loan_df['loan_status'] == 'Current'].index, inplace = True)"
   ]
  },
  {
   "cell_type": "code",
   "execution_count": 56,
   "id": "british-hebrew",
   "metadata": {},
   "outputs": [],
   "source": [
    "# changing the loan_status to a numeric variable, assign 1 for defaulted loans and 0 for paid off ones\n",
    "loan_df['loan_status_boolean'] = loan_df['loan_status'].apply(lambda x: 1 if x=='Charged Off' else 0)"
   ]
  },
  {
   "cell_type": "code",
   "execution_count": 57,
   "id": "about-milwaukee",
   "metadata": {},
   "outputs": [
    {
     "data": {
      "text/plain": [
       "Not Verified       16521\n",
       "Verified           12021\n",
       "Source Verified     9546\n",
       "Name: verification_status, dtype: int64"
      ]
     },
     "execution_count": 57,
     "metadata": {},
     "output_type": "execute_result"
    }
   ],
   "source": [
    "loan_df['verification_status'].value_counts()"
   ]
  },
  {
   "cell_type": "code",
   "execution_count": 62,
   "id": "conservative-retention",
   "metadata": {},
   "outputs": [
    {
     "data": {
      "text/plain": [
       "array(['credit_card', 'car', 'small_business', 'other', 'wedding',\n",
       "       'debt_consolidation', 'home_improvement', 'major_purchase',\n",
       "       'medical', 'moving', 'vacation', 'house', 'renewable_energy',\n",
       "       'educational'], dtype=object)"
      ]
     },
     "execution_count": 62,
     "metadata": {},
     "output_type": "execute_result"
    }
   ],
   "source": [
    "loan_df['purpose'].unique()"
   ]
  },
  {
   "cell_type": "markdown",
   "id": "sticky-amplifier",
   "metadata": {},
   "source": [
    "## Data Cleaning 5: Filtering Data\n",
    "#### Data Cleaning 5.1: Deduplicte Data\n",
    "#### Data Cleaning 5.2: Filter Rows\n",
    "#### Data Cleaning 5.3: Filter Columns\n",
    "#### Data Cleaning 5.4: Aggregate data"
   ]
  },
  {
   "cell_type": "code",
   "execution_count": 63,
   "id": "laden-school",
   "metadata": {},
   "outputs": [
    {
     "data": {
      "text/html": [
       "<div>\n",
       "<style scoped>\n",
       "    .dataframe tbody tr th:only-of-type {\n",
       "        vertical-align: middle;\n",
       "    }\n",
       "\n",
       "    .dataframe tbody tr th {\n",
       "        vertical-align: top;\n",
       "    }\n",
       "\n",
       "    .dataframe thead th {\n",
       "        text-align: right;\n",
       "    }\n",
       "</style>\n",
       "<table border=\"1\" class=\"dataframe\">\n",
       "  <thead>\n",
       "    <tr style=\"text-align: right;\">\n",
       "      <th></th>\n",
       "      <th>loan_amnt</th>\n",
       "      <th>funded_amnt</th>\n",
       "      <th>funded_amnt_inv</th>\n",
       "      <th>term</th>\n",
       "      <th>int_rate</th>\n",
       "      <th>installment</th>\n",
       "      <th>grade</th>\n",
       "      <th>sub_grade</th>\n",
       "      <th>emp_length</th>\n",
       "      <th>home_ownership</th>\n",
       "      <th>annual_inc</th>\n",
       "      <th>verification_status</th>\n",
       "      <th>issue_d</th>\n",
       "      <th>loan_status</th>\n",
       "      <th>purpose</th>\n",
       "      <th>zip_code</th>\n",
       "      <th>addr_state</th>\n",
       "      <th>dti</th>\n",
       "      <th>pub_rec</th>\n",
       "      <th>revol_bal</th>\n",
       "      <th>revol_util</th>\n",
       "      <th>total_acc</th>\n",
       "      <th>out_prncp</th>\n",
       "      <th>out_prncp_inv</th>\n",
       "      <th>total_pymnt</th>\n",
       "      <th>total_pymnt_inv</th>\n",
       "      <th>total_rec_prncp</th>\n",
       "      <th>total_rec_int</th>\n",
       "      <th>recoveries</th>\n",
       "      <th>pub_rec_bankruptcies</th>\n",
       "      <th>loan_status_boolean</th>\n",
       "    </tr>\n",
       "  </thead>\n",
       "  <tbody>\n",
       "    <tr>\n",
       "      <th>0</th>\n",
       "      <td>5000</td>\n",
       "      <td>5000</td>\n",
       "      <td>4975.0</td>\n",
       "      <td>36</td>\n",
       "      <td>10.65</td>\n",
       "      <td>162.87</td>\n",
       "      <td>B</td>\n",
       "      <td>B2</td>\n",
       "      <td>10</td>\n",
       "      <td>RENT</td>\n",
       "      <td>24000.0</td>\n",
       "      <td>Verified</td>\n",
       "      <td>Dec 2011</td>\n",
       "      <td>Fully Paid</td>\n",
       "      <td>credit_card</td>\n",
       "      <td>860</td>\n",
       "      <td>AZ</td>\n",
       "      <td>27.65</td>\n",
       "      <td>0</td>\n",
       "      <td>13648</td>\n",
       "      <td>83.7</td>\n",
       "      <td>9</td>\n",
       "      <td>0.0</td>\n",
       "      <td>0.0</td>\n",
       "      <td>5863.16</td>\n",
       "      <td>5833.84</td>\n",
       "      <td>5000.00</td>\n",
       "      <td>863.16</td>\n",
       "      <td>0.00</td>\n",
       "      <td>0.0</td>\n",
       "      <td>0</td>\n",
       "    </tr>\n",
       "    <tr>\n",
       "      <th>1</th>\n",
       "      <td>2500</td>\n",
       "      <td>2500</td>\n",
       "      <td>2500.0</td>\n",
       "      <td>60</td>\n",
       "      <td>15.27</td>\n",
       "      <td>59.83</td>\n",
       "      <td>C</td>\n",
       "      <td>C4</td>\n",
       "      <td>1</td>\n",
       "      <td>RENT</td>\n",
       "      <td>30000.0</td>\n",
       "      <td>Source Verified</td>\n",
       "      <td>Dec 2011</td>\n",
       "      <td>Charged Off</td>\n",
       "      <td>car</td>\n",
       "      <td>309</td>\n",
       "      <td>GA</td>\n",
       "      <td>1.00</td>\n",
       "      <td>0</td>\n",
       "      <td>1687</td>\n",
       "      <td>9.4</td>\n",
       "      <td>4</td>\n",
       "      <td>0.0</td>\n",
       "      <td>0.0</td>\n",
       "      <td>1008.71</td>\n",
       "      <td>1008.71</td>\n",
       "      <td>456.46</td>\n",
       "      <td>435.17</td>\n",
       "      <td>117.08</td>\n",
       "      <td>0.0</td>\n",
       "      <td>1</td>\n",
       "    </tr>\n",
       "    <tr>\n",
       "      <th>2</th>\n",
       "      <td>2400</td>\n",
       "      <td>2400</td>\n",
       "      <td>2400.0</td>\n",
       "      <td>36</td>\n",
       "      <td>15.96</td>\n",
       "      <td>84.33</td>\n",
       "      <td>C</td>\n",
       "      <td>C5</td>\n",
       "      <td>10</td>\n",
       "      <td>RENT</td>\n",
       "      <td>12252.0</td>\n",
       "      <td>Not Verified</td>\n",
       "      <td>Dec 2011</td>\n",
       "      <td>Fully Paid</td>\n",
       "      <td>small_business</td>\n",
       "      <td>606</td>\n",
       "      <td>IL</td>\n",
       "      <td>8.72</td>\n",
       "      <td>0</td>\n",
       "      <td>2956</td>\n",
       "      <td>98.5</td>\n",
       "      <td>10</td>\n",
       "      <td>0.0</td>\n",
       "      <td>0.0</td>\n",
       "      <td>3005.67</td>\n",
       "      <td>3005.67</td>\n",
       "      <td>2400.00</td>\n",
       "      <td>605.67</td>\n",
       "      <td>0.00</td>\n",
       "      <td>0.0</td>\n",
       "      <td>0</td>\n",
       "    </tr>\n",
       "    <tr>\n",
       "      <th>3</th>\n",
       "      <td>10000</td>\n",
       "      <td>10000</td>\n",
       "      <td>10000.0</td>\n",
       "      <td>36</td>\n",
       "      <td>13.49</td>\n",
       "      <td>339.31</td>\n",
       "      <td>C</td>\n",
       "      <td>C1</td>\n",
       "      <td>10</td>\n",
       "      <td>RENT</td>\n",
       "      <td>49200.0</td>\n",
       "      <td>Source Verified</td>\n",
       "      <td>Dec 2011</td>\n",
       "      <td>Fully Paid</td>\n",
       "      <td>other</td>\n",
       "      <td>917</td>\n",
       "      <td>CA</td>\n",
       "      <td>20.00</td>\n",
       "      <td>0</td>\n",
       "      <td>5598</td>\n",
       "      <td>21.0</td>\n",
       "      <td>37</td>\n",
       "      <td>0.0</td>\n",
       "      <td>0.0</td>\n",
       "      <td>12231.89</td>\n",
       "      <td>12231.89</td>\n",
       "      <td>10000.00</td>\n",
       "      <td>2214.92</td>\n",
       "      <td>0.00</td>\n",
       "      <td>0.0</td>\n",
       "      <td>0</td>\n",
       "    </tr>\n",
       "    <tr>\n",
       "      <th>5</th>\n",
       "      <td>5000</td>\n",
       "      <td>5000</td>\n",
       "      <td>5000.0</td>\n",
       "      <td>36</td>\n",
       "      <td>7.90</td>\n",
       "      <td>156.46</td>\n",
       "      <td>A</td>\n",
       "      <td>A4</td>\n",
       "      <td>3</td>\n",
       "      <td>RENT</td>\n",
       "      <td>36000.0</td>\n",
       "      <td>Source Verified</td>\n",
       "      <td>Dec 2011</td>\n",
       "      <td>Fully Paid</td>\n",
       "      <td>wedding</td>\n",
       "      <td>852</td>\n",
       "      <td>AZ</td>\n",
       "      <td>11.20</td>\n",
       "      <td>0</td>\n",
       "      <td>7963</td>\n",
       "      <td>28.3</td>\n",
       "      <td>12</td>\n",
       "      <td>0.0</td>\n",
       "      <td>0.0</td>\n",
       "      <td>5632.21</td>\n",
       "      <td>5632.21</td>\n",
       "      <td>5000.00</td>\n",
       "      <td>632.21</td>\n",
       "      <td>0.00</td>\n",
       "      <td>0.0</td>\n",
       "      <td>0</td>\n",
       "    </tr>\n",
       "  </tbody>\n",
       "</table>\n",
       "</div>"
      ],
      "text/plain": [
       "   loan_amnt  funded_amnt  funded_amnt_inv  term  int_rate  installment grade  \\\n",
       "0       5000         5000           4975.0    36     10.65       162.87     B   \n",
       "1       2500         2500           2500.0    60     15.27        59.83     C   \n",
       "2       2400         2400           2400.0    36     15.96        84.33     C   \n",
       "3      10000        10000          10000.0    36     13.49       339.31     C   \n",
       "5       5000         5000           5000.0    36      7.90       156.46     A   \n",
       "\n",
       "  sub_grade  emp_length home_ownership  annual_inc verification_status  \\\n",
       "0        B2          10           RENT     24000.0            Verified   \n",
       "1        C4           1           RENT     30000.0     Source Verified   \n",
       "2        C5          10           RENT     12252.0        Not Verified   \n",
       "3        C1          10           RENT     49200.0     Source Verified   \n",
       "5        A4           3           RENT     36000.0     Source Verified   \n",
       "\n",
       "    issue_d  loan_status         purpose zip_code addr_state    dti  pub_rec  \\\n",
       "0  Dec 2011   Fully Paid     credit_card      860         AZ  27.65        0   \n",
       "1  Dec 2011  Charged Off             car      309         GA   1.00        0   \n",
       "2  Dec 2011   Fully Paid  small_business      606         IL   8.72        0   \n",
       "3  Dec 2011   Fully Paid           other      917         CA  20.00        0   \n",
       "5  Dec 2011   Fully Paid         wedding      852         AZ  11.20        0   \n",
       "\n",
       "   revol_bal  revol_util  total_acc  out_prncp  out_prncp_inv  total_pymnt  \\\n",
       "0      13648        83.7          9        0.0            0.0      5863.16   \n",
       "1       1687         9.4          4        0.0            0.0      1008.71   \n",
       "2       2956        98.5         10        0.0            0.0      3005.67   \n",
       "3       5598        21.0         37        0.0            0.0     12231.89   \n",
       "5       7963        28.3         12        0.0            0.0      5632.21   \n",
       "\n",
       "   total_pymnt_inv  total_rec_prncp  total_rec_int  recoveries  \\\n",
       "0          5833.84          5000.00         863.16        0.00   \n",
       "1          1008.71           456.46         435.17      117.08   \n",
       "2          3005.67          2400.00         605.67        0.00   \n",
       "3         12231.89         10000.00        2214.92        0.00   \n",
       "5          5632.21          5000.00         632.21        0.00   \n",
       "\n",
       "   pub_rec_bankruptcies  loan_status_boolean  \n",
       "0                   0.0                    0  \n",
       "1                   0.0                    1  \n",
       "2                   0.0                    0  \n",
       "3                   0.0                    0  \n",
       "5                   0.0                    0  "
      ]
     },
     "execution_count": 63,
     "metadata": {},
     "output_type": "execute_result"
    }
   ],
   "source": [
    "loan_df.head()"
   ]
  },
  {
   "cell_type": "code",
   "execution_count": 65,
   "id": "experimental-british",
   "metadata": {},
   "outputs": [
    {
     "data": {
      "text/plain": [
       "0    36032\n",
       "1     2000\n",
       "2       47\n",
       "3        7\n",
       "4        2\n",
       "Name: pub_rec, dtype: int64"
      ]
     },
     "execution_count": 65,
     "metadata": {},
     "output_type": "execute_result"
    }
   ],
   "source": [
    "loan_df.pub_rec.value_counts()"
   ]
  },
  {
   "cell_type": "markdown",
   "id": "perfect-valuation",
   "metadata": {},
   "source": [
    "## Univariate Analysis\n",
    "\n",
    "### Caterorical Value:\n",
    "#### Unordered:\n",
    "['home_ownership', 'verification Status', 'purpose', 'loan_status_boolean']\n",
    "#### Ordered:\n",
    "['grade', 'sub_grade', 'emp_length','term']\n",
    "### Quantitative Variable:\n",
    "['loan_amnt','funded_amnt','funded_amnt_inv','int_rate','installment','annual_inc','dti','total_pymnt','total_pymnt_inv']"
   ]
  },
  {
   "cell_type": "code",
   "execution_count": 121,
   "id": "recreational-instrument",
   "metadata": {},
   "outputs": [],
   "source": [
    "def unordered_categorical(size_x, size_y, column, graphTitle, x_axis, y_axis):\n",
    "    plt.figure(figsize = (size_x,size_y), facecolor = 'c')\n",
    "    sns.set_style(\"darkgrid\")\n",
    "    x = sns.countplot(x = column, data = loan_df, palette = 'mako')\n",
    "    x.set_title(graphTitle, fontsize = 12, color = 'r')\n",
    "    x.set_xlabel(x_axis, fontsize = 12, color = 'r')\n",
    "    x.set_ylabel(y_axis, fontsize = 12, color = 'r')   \n",
    "\n",
    "    # To show count of values above bars\n",
    "    totalCounts = loan_df[column].value_counts()\n",
    "    for i, v in totalCounts.reset_index().iterrows():\n",
    "        x.text(i, v[column] + 0.1 , v[column], color = 'k')    \n",
    "\n",
    "def unordered_categorical_y(size_x, size_y, y_column,hue, graphTitle, x_axis, y_axis):\n",
    "    plt.figure(figsize = (size_x,size_y), facecolor = 'c')\n",
    "    sns.set_style(\"darkgrid\")\n",
    "    x = sns.countplot(y = y_column,data = loan_df, hue = hue, palette='GnBu_d')\n",
    "    x.set_title(graphTitle, fontsize = 14, color = 'r')\n",
    "    x.set_ylabel(y_axis, fontsize = 14, color = 'r')\n",
    "    x.set_xlabel(x_axis, fontsize = 14, color = 'r')      \n",
    "    plt.show()"
   ]
  },
  {
   "cell_type": "code",
   "execution_count": 118,
   "id": "appreciated-subdivision",
   "metadata": {},
   "outputs": [
    {
     "data": {
      "image/png": "[encoded data removed]",
      "text/plain": [
       "<Figure size 576x576 with 1 Axes>"
      ]
     },
     "metadata": {},
     "output_type": "display_data"
    }
   ],
   "source": [
    "#Unordered Categorical Variables - Loan Status\n",
    "unordered_categorical(8,8,'loan_status', 'Loan Status', 'Loan Status', 'Total Loan Records')"
   ]
  },
  {
   "cell_type": "markdown",
   "id": "departmental-problem",
   "metadata": {},
   "source": [
    "Above plot shows that close to 15% loans were charged off out of total loan Application"
   ]
  },
  {
   "cell_type": "code",
   "execution_count": 130,
   "id": "expressed-canal",
   "metadata": {
    "scrolled": true
   },
   "outputs": [
    {
     "data": {
      "image/png": "[encoded data removed]",
      "text/plain": [
       "<Figure size 1008x576 with 1 Axes>"
      ]
     },
     "metadata": {},
     "output_type": "display_data"
    }
   ],
   "source": [
    "#Unordered Categorical Variables - home ownership\n",
    "unordered_categorical_y(14,8,'home_ownership','loan_status','Home Ownership','Total Application','Home Ownership')"
   ]
  },
  {
   "cell_type": "markdown",
   "id": "accepted-shape",
   "metadata": {},
   "source": [
    "Above plot shows that most of the loans were taken for Applicatins having Home Mortgaged or rent"
   ]
  },
  {
   "cell_type": "code",
   "execution_count": 126,
   "id": "controversial-stevens",
   "metadata": {},
   "outputs": [
    {
     "data": {
      "image/png": "[encoded data removed]",
      "text/plain": [
       "<Figure size 1008x576 with 1 Axes>"
      ]
     },
     "metadata": {},
     "output_type": "display_data"
    }
   ],
   "source": [
    "unordered_categorical_y(14,8,'purpose','loan_status','Pupose of Loan','Total Application','Purpose of Loan')"
   ]
  },
  {
   "cell_type": "markdown",
   "id": "third-storage",
   "metadata": {},
   "source": [
    "Above plot shows that most of the loans were taken for debt consolidation/paying credit card bill/Small Business"
   ]
  },
  {
   "cell_type": "code",
   "execution_count": 133,
   "id": "polished-chambers",
   "metadata": {},
   "outputs": [
    {
     "data": {
      "image/png": "[encoded data removed]",
      "text/plain": [
       "<Figure size 1008x360 with 1 Axes>"
      ]
     },
     "metadata": {},
     "output_type": "display_data"
    }
   ],
   "source": [
    "unordered_categorical_y(14,5,'verification_status','loan_status','Verification Status','Total Application','Verification Status')"
   ]
  },
  {
   "cell_type": "markdown",
   "id": "grand-french",
   "metadata": {},
   "source": [
    "from above plot, it shows there is not much difference between Verifcation Status of accounts which gets charged off"
   ]
  },
  {
   "cell_type": "code",
   "execution_count": 71,
   "id": "naval-bones",
   "metadata": {},
   "outputs": [
    {
     "name": "stdout",
     "output_type": "stream",
     "text": [
      "Help on function set_style in module seaborn.rcmod:\n",
      "\n",
      "set_style(style=None, rc=None)\n",
      "    Set the parameters that control the general style of the plots.\n",
      "    \n",
      "    The style parameters control properties like the color of the background and\n",
      "    whether a grid is enabled by default. This is accomplished using the\n",
      "    :ref:`matplotlib rcParams system <matplotlib:matplotlib-rcparams>`.\n",
      "    \n",
      "    The options are illustrated in the\n",
      "    :doc:`aesthetics tutorial <../tutorial/aesthetics>`.\n",
      "    \n",
      "    See :func:`axes_style` to get the parameter values.\n",
      "    \n",
      "    Parameters\n",
      "    ----------\n",
      "    style : dict, or one of {darkgrid, whitegrid, dark, white, ticks}\n",
      "        A dictionary of parameters or the name of a preconfigured style.\n",
      "    rc : dict, optional\n",
      "        Parameter mappings to override the values in the preset seaborn\n",
      "        style dictionaries. This only updates parameters that are\n",
      "        considered part of the style definition.\n",
      "    \n",
      "    Examples\n",
      "    --------\n",
      "    \n",
      "    .. include:: ../docstrings/set_style.rst\n",
      "\n"
     ]
    }
   ],
   "source": [
    "help(sns.set_style)"
   ]
  },
  {
   "cell_type": "markdown",
   "id": "micro-profit",
   "metadata": {},
   "source": [
    "### There are some columns which are related to Customer, not required for any business point of View like Address"
   ]
  },
  {
   "cell_type": "code",
   "execution_count": 43,
   "id": "eastern-stewart",
   "metadata": {},
   "outputs": [
    {
     "ename": "KeyError",
     "evalue": "\"['url' 'title' 'emp_title' 'last_credit_pull_d'] not found in axis\"",
     "output_type": "error",
     "traceback": [
      "\u001b[1;31m---------------------------------------------------------------------------\u001b[0m",
      "\u001b[1;31mKeyError\u001b[0m                                  Traceback (most recent call last)",
      "\u001b[1;32m<ipython-input-43-b2484631aa86>\u001b[0m in \u001b[0;36m<module>\u001b[1;34m\u001b[0m\n\u001b[0;32m      1\u001b[0m \u001b[0mnotRelated_column\u001b[0m \u001b[1;33m=\u001b[0m \u001b[1;33m[\u001b[0m\u001b[1;34m\"url\"\u001b[0m\u001b[1;33m,\u001b[0m \u001b[1;34m\"title\"\u001b[0m\u001b[1;33m,\u001b[0m \u001b[1;34m\"emp_title\"\u001b[0m\u001b[1;33m,\u001b[0m \u001b[1;34m\"zip_code\"\u001b[0m\u001b[1;33m,\u001b[0m \u001b[1;34m\"last_credit_pull_d\"\u001b[0m\u001b[1;33m,\u001b[0m \u001b[1;34m\"addr_state\"\u001b[0m\u001b[1;33m]\u001b[0m\u001b[1;33m\u001b[0m\u001b[1;33m\u001b[0m\u001b[0m\n\u001b[1;32m----> 2\u001b[1;33m \u001b[0mloan_df\u001b[0m\u001b[1;33m.\u001b[0m\u001b[0mdrop\u001b[0m\u001b[1;33m(\u001b[0m\u001b[0mnotRelated_column\u001b[0m\u001b[1;33m,\u001b[0m\u001b[0maxis\u001b[0m \u001b[1;33m=\u001b[0m \u001b[1;36m1\u001b[0m\u001b[1;33m,\u001b[0m \u001b[0minplace\u001b[0m \u001b[1;33m=\u001b[0m \u001b[1;32mTrue\u001b[0m\u001b[1;33m)\u001b[0m\u001b[1;33m\u001b[0m\u001b[1;33m\u001b[0m\u001b[0m\n\u001b[0m",
      "\u001b[1;32m~\\AppData\\Roaming\\Python\\Python39\\site-packages\\pandas\\core\\frame.py\u001b[0m in \u001b[0;36mdrop\u001b[1;34m(self, labels, axis, index, columns, level, inplace, errors)\u001b[0m\n\u001b[0;32m   4303\u001b[0m                 \u001b[0mweight\u001b[0m  \u001b[1;36m1.0\u001b[0m     \u001b[1;36m0.8\u001b[0m\u001b[1;33m\u001b[0m\u001b[1;33m\u001b[0m\u001b[0m\n\u001b[0;32m   4304\u001b[0m         \"\"\"\n\u001b[1;32m-> 4305\u001b[1;33m         return super().drop(\n\u001b[0m\u001b[0;32m   4306\u001b[0m             \u001b[0mlabels\u001b[0m\u001b[1;33m=\u001b[0m\u001b[0mlabels\u001b[0m\u001b[1;33m,\u001b[0m\u001b[1;33m\u001b[0m\u001b[1;33m\u001b[0m\u001b[0m\n\u001b[0;32m   4307\u001b[0m             \u001b[0maxis\u001b[0m\u001b[1;33m=\u001b[0m\u001b[0maxis\u001b[0m\u001b[1;33m,\u001b[0m\u001b[1;33m\u001b[0m\u001b[1;33m\u001b[0m\u001b[0m\n",
      "\u001b[1;32m~\\AppData\\Roaming\\Python\\Python39\\site-packages\\pandas\\core\\generic.py\u001b[0m in \u001b[0;36mdrop\u001b[1;34m(self, labels, axis, index, columns, level, inplace, errors)\u001b[0m\n\u001b[0;32m   4150\u001b[0m         \u001b[1;32mfor\u001b[0m \u001b[0maxis\u001b[0m\u001b[1;33m,\u001b[0m \u001b[0mlabels\u001b[0m \u001b[1;32min\u001b[0m \u001b[0maxes\u001b[0m\u001b[1;33m.\u001b[0m\u001b[0mitems\u001b[0m\u001b[1;33m(\u001b[0m\u001b[1;33m)\u001b[0m\u001b[1;33m:\u001b[0m\u001b[1;33m\u001b[0m\u001b[1;33m\u001b[0m\u001b[0m\n\u001b[0;32m   4151\u001b[0m             \u001b[1;32mif\u001b[0m \u001b[0mlabels\u001b[0m \u001b[1;32mis\u001b[0m \u001b[1;32mnot\u001b[0m \u001b[1;32mNone\u001b[0m\u001b[1;33m:\u001b[0m\u001b[1;33m\u001b[0m\u001b[1;33m\u001b[0m\u001b[0m\n\u001b[1;32m-> 4152\u001b[1;33m                 \u001b[0mobj\u001b[0m \u001b[1;33m=\u001b[0m \u001b[0mobj\u001b[0m\u001b[1;33m.\u001b[0m\u001b[0m_drop_axis\u001b[0m\u001b[1;33m(\u001b[0m\u001b[0mlabels\u001b[0m\u001b[1;33m,\u001b[0m \u001b[0maxis\u001b[0m\u001b[1;33m,\u001b[0m \u001b[0mlevel\u001b[0m\u001b[1;33m=\u001b[0m\u001b[0mlevel\u001b[0m\u001b[1;33m,\u001b[0m \u001b[0merrors\u001b[0m\u001b[1;33m=\u001b[0m\u001b[0merrors\u001b[0m\u001b[1;33m)\u001b[0m\u001b[1;33m\u001b[0m\u001b[1;33m\u001b[0m\u001b[0m\n\u001b[0m\u001b[0;32m   4153\u001b[0m \u001b[1;33m\u001b[0m\u001b[0m\n\u001b[0;32m   4154\u001b[0m         \u001b[1;32mif\u001b[0m \u001b[0minplace\u001b[0m\u001b[1;33m:\u001b[0m\u001b[1;33m\u001b[0m\u001b[1;33m\u001b[0m\u001b[0m\n",
      "\u001b[1;32m~\\AppData\\Roaming\\Python\\Python39\\site-packages\\pandas\\core\\generic.py\u001b[0m in \u001b[0;36m_drop_axis\u001b[1;34m(self, labels, axis, level, errors)\u001b[0m\n\u001b[0;32m   4185\u001b[0m                 \u001b[0mnew_axis\u001b[0m \u001b[1;33m=\u001b[0m \u001b[0maxis\u001b[0m\u001b[1;33m.\u001b[0m\u001b[0mdrop\u001b[0m\u001b[1;33m(\u001b[0m\u001b[0mlabels\u001b[0m\u001b[1;33m,\u001b[0m \u001b[0mlevel\u001b[0m\u001b[1;33m=\u001b[0m\u001b[0mlevel\u001b[0m\u001b[1;33m,\u001b[0m \u001b[0merrors\u001b[0m\u001b[1;33m=\u001b[0m\u001b[0merrors\u001b[0m\u001b[1;33m)\u001b[0m\u001b[1;33m\u001b[0m\u001b[1;33m\u001b[0m\u001b[0m\n\u001b[0;32m   4186\u001b[0m             \u001b[1;32melse\u001b[0m\u001b[1;33m:\u001b[0m\u001b[1;33m\u001b[0m\u001b[1;33m\u001b[0m\u001b[0m\n\u001b[1;32m-> 4187\u001b[1;33m                 \u001b[0mnew_axis\u001b[0m \u001b[1;33m=\u001b[0m \u001b[0maxis\u001b[0m\u001b[1;33m.\u001b[0m\u001b[0mdrop\u001b[0m\u001b[1;33m(\u001b[0m\u001b[0mlabels\u001b[0m\u001b[1;33m,\u001b[0m \u001b[0merrors\u001b[0m\u001b[1;33m=\u001b[0m\u001b[0merrors\u001b[0m\u001b[1;33m)\u001b[0m\u001b[1;33m\u001b[0m\u001b[1;33m\u001b[0m\u001b[0m\n\u001b[0m\u001b[0;32m   4188\u001b[0m             \u001b[0mresult\u001b[0m \u001b[1;33m=\u001b[0m \u001b[0mself\u001b[0m\u001b[1;33m.\u001b[0m\u001b[0mreindex\u001b[0m\u001b[1;33m(\u001b[0m\u001b[1;33m**\u001b[0m\u001b[1;33m{\u001b[0m\u001b[0maxis_name\u001b[0m\u001b[1;33m:\u001b[0m \u001b[0mnew_axis\u001b[0m\u001b[1;33m}\u001b[0m\u001b[1;33m)\u001b[0m\u001b[1;33m\u001b[0m\u001b[1;33m\u001b[0m\u001b[0m\n\u001b[0;32m   4189\u001b[0m \u001b[1;33m\u001b[0m\u001b[0m\n",
      "\u001b[1;32m~\\AppData\\Roaming\\Python\\Python39\\site-packages\\pandas\\core\\indexes\\base.py\u001b[0m in \u001b[0;36mdrop\u001b[1;34m(self, labels, errors)\u001b[0m\n\u001b[0;32m   5589\u001b[0m         \u001b[1;32mif\u001b[0m \u001b[0mmask\u001b[0m\u001b[1;33m.\u001b[0m\u001b[0many\u001b[0m\u001b[1;33m(\u001b[0m\u001b[1;33m)\u001b[0m\u001b[1;33m:\u001b[0m\u001b[1;33m\u001b[0m\u001b[1;33m\u001b[0m\u001b[0m\n\u001b[0;32m   5590\u001b[0m             \u001b[1;32mif\u001b[0m \u001b[0merrors\u001b[0m \u001b[1;33m!=\u001b[0m \u001b[1;34m\"ignore\"\u001b[0m\u001b[1;33m:\u001b[0m\u001b[1;33m\u001b[0m\u001b[1;33m\u001b[0m\u001b[0m\n\u001b[1;32m-> 5591\u001b[1;33m                 \u001b[1;32mraise\u001b[0m \u001b[0mKeyError\u001b[0m\u001b[1;33m(\u001b[0m\u001b[1;34mf\"{labels[mask]} not found in axis\"\u001b[0m\u001b[1;33m)\u001b[0m\u001b[1;33m\u001b[0m\u001b[1;33m\u001b[0m\u001b[0m\n\u001b[0m\u001b[0;32m   5592\u001b[0m             \u001b[0mindexer\u001b[0m \u001b[1;33m=\u001b[0m \u001b[0mindexer\u001b[0m\u001b[1;33m[\u001b[0m\u001b[1;33m~\u001b[0m\u001b[0mmask\u001b[0m\u001b[1;33m]\u001b[0m\u001b[1;33m\u001b[0m\u001b[1;33m\u001b[0m\u001b[0m\n\u001b[0;32m   5593\u001b[0m         \u001b[1;32mreturn\u001b[0m \u001b[0mself\u001b[0m\u001b[1;33m.\u001b[0m\u001b[0mdelete\u001b[0m\u001b[1;33m(\u001b[0m\u001b[0mindexer\u001b[0m\u001b[1;33m)\u001b[0m\u001b[1;33m\u001b[0m\u001b[1;33m\u001b[0m\u001b[0m\n",
      "\u001b[1;31mKeyError\u001b[0m: \"['url' 'title' 'emp_title' 'last_credit_pull_d'] not found in axis\""
     ]
    }
   ],
   "source": [
    "notRelated_column = [\"url\", \"title\", \"emp_title\", \"zip_code\", \"last_credit_pull_d\", \"addr_state\"]\n",
    "loan_df.drop(notRelated_column,axis = 1, inplace = True)"
   ]
  },
  {
   "cell_type": "code",
   "execution_count": null,
   "id": "iraqi-thumb",
   "metadata": {
    "scrolled": true
   },
   "outputs": [],
   "source": [
    "# Fither Investigating columns\n",
    "loan_df.info()"
   ]
  },
  {
   "cell_type": "code",
   "execution_count": null,
   "id": "stopped-vancouver",
   "metadata": {
    "scrolled": true
   },
   "outputs": [],
   "source": [
    "loan_df['pub_rec_bankruptcies'].value_counts()"
   ]
  },
  {
   "cell_type": "code",
   "execution_count": null,
   "id": "joint-creation",
   "metadata": {
    "scrolled": true
   },
   "outputs": [],
   "source": [
    "# Identifying more colums which may not required\n",
    "loan_df.head()"
   ]
  },
  {
   "cell_type": "markdown",
   "id": "external-strike",
   "metadata": {},
   "source": [
    "### Threre are some columns which are not required and also some columns may have identical values which may can drop"
   ]
  },
  {
   "cell_type": "code",
   "execution_count": null,
   "id": "extraordinary-document",
   "metadata": {},
   "outputs": [],
   "source": [
    "# Removing not required fields\n",
    "notRelated_column1 = [\"id\", \"member_id\", \"grade\", \"sub_grade\", \"policy_code\",\"desc\"]\n",
    "loan_df.drop(notRelated_column1,axis = 1, inplace = True)"
   ]
  },
  {
   "cell_type": "code",
   "execution_count": null,
   "id": "hidden-meter",
   "metadata": {},
   "outputs": [],
   "source": [
    "# Dropping coluns where value or data is common across rows\n",
    "common_value_columns = loan_df.nunique()\n",
    "colToDrop = common_value_columns[common_value_columns.values == 1]\n",
    "loan_df.drop(columns = list(colToDrop.index), inplace=True)"
   ]
  },
  {
   "cell_type": "code",
   "execution_count": null,
   "id": "conservative-associate",
   "metadata": {
    "scrolled": true
   },
   "outputs": [],
   "source": [
    "# Identifying more colums which may not required\n",
    "pd.options.display.max_columns = None\n",
    "loan_df.head()"
   ]
  },
  {
   "cell_type": "markdown",
   "id": "vertical-denver",
   "metadata": {},
   "source": [
    "## Data Manipuation/Standardization\n",
    "### like term/int_rate/emp_length"
   ]
  },
  {
   "cell_type": "code",
   "execution_count": null,
   "id": "confirmed-street",
   "metadata": {
    "scrolled": true
   },
   "outputs": [],
   "source": [
    "#Removing months\n",
    "loan_df['term'].value_counts()"
   ]
  },
  {
   "cell_type": "code",
   "execution_count": null,
   "id": "third-lithuania",
   "metadata": {},
   "outputs": [],
   "source": [
    "loan_df['term'] = loan_df['term'].apply(lambda x: pd.to_numeric(x.split(\"months\")[0]))"
   ]
  },
  {
   "cell_type": "code",
   "execution_count": null,
   "id": "mature-cabinet",
   "metadata": {},
   "outputs": [],
   "source": [
    "#Removing months\n",
    "loan_df['int_rate'].value_counts()"
   ]
  },
  {
   "cell_type": "code",
   "execution_count": null,
   "id": "based-closure",
   "metadata": {},
   "outputs": [],
   "source": [
    "loan_df['int_rate'] = loan_df['int_rate'].apply(lambda x: pd.to_numeric(x.split(\"%\")[0]))"
   ]
  },
  {
   "cell_type": "code",
   "execution_count": null,
   "id": "applicable-details",
   "metadata": {},
   "outputs": [],
   "source": [
    "# Standardizing Employee Length\n",
    "loan_df.emp_length.fillna('0',inplace=True)"
   ]
  },
  {
   "cell_type": "code",
   "execution_count": null,
   "id": "accurate-detail",
   "metadata": {
    "scrolled": true
   },
   "outputs": [],
   "source": [
    "loan_df['emp_length'] = loan_df.emp_length.str.extract('(\\d+)')\n",
    "loan_df.head()"
   ]
  },
  {
   "cell_type": "code",
   "execution_count": null,
   "id": "final-garage",
   "metadata": {},
   "outputs": [],
   "source": [
    "# Converting date Year\n",
    "def convertToDate(x):\n",
    "    if int(x.split('-')[1]) > 22 and int(x.split('-')[1]) <= 99:\n",
    "        yy = ' 19'+x.split('-')[1]\n",
    "    else:\n",
    "        yy = ' 20'+x.split('-')[1]\n",
    "        \n",
    "    y = x.split('-')[0] + yy\n",
    "    return datetime.strftime(datetime.strptime(y, '%b %Y'), '%b %Y')\n",
    "\n",
    "loan_df['issue_d'] = loan_df['issue_d'].apply(lambda x: convertToDate(x))\n",
    "loan_df['earliest_cr_line'] = loan_df['earliest_cr_line'].apply(lambda x: convertToDate(x))"
   ]
  },
  {
   "cell_type": "code",
   "execution_count": null,
   "id": "fifteen-speech",
   "metadata": {},
   "outputs": [],
   "source": [
    "# Converting fields to numeric\n",
    "columns_toNumeric= ['loan_amnt','funded_amnt','int_rate','funded_amnt_inv','installment','annual_inc','dti','emp_length','total_pymnt']\n",
    "loan_df[columns_toNumeric] = loan_df[columns_toNumeric].apply(pd.to_numeric)\n",
    "loan_df.info()"
   ]
  },
  {
   "cell_type": "markdown",
   "id": "clean-begin",
   "metadata": {},
   "source": [
    "## Check for Outliers"
   ]
  },
  {
   "cell_type": "code",
   "execution_count": null,
   "id": "covered-classification",
   "metadata": {},
   "outputs": [],
   "source": [
    "loan_df['loan_status'].value_counts()"
   ]
  },
  {
   "cell_type": "code",
   "execution_count": null,
   "id": "wanted-flush",
   "metadata": {},
   "outputs": [],
   "source": [
    "sns.boxplot(loan_df['annual_inc'])"
   ]
  },
  {
   "cell_type": "markdown",
   "id": "promising-hamilton",
   "metadata": {},
   "source": [
    "## Handling Outliers"
   ]
  },
  {
   "cell_type": "code",
   "execution_count": null,
   "id": "underlying-power",
   "metadata": {},
   "outputs": [],
   "source": [
    "# quantifying the Annual_inc\n",
    "quantile_account_inc = loan_df.annual_inc.quantile([0.5, 0.75,0.90, 0.95, 0.97,0.98, 0.99])\n",
    "quantile_account_inc"
   ]
  },
  {
   "cell_type": "code",
   "execution_count": null,
   "id": "uniform-stack",
   "metadata": {},
   "outputs": [],
   "source": [
    "''' Detection '''\n",
    "# IQR\n",
    "Q1 = np.percentile(loan_df['annual_inc'], 25,interpolation = 'midpoint')\n",
    "Q3 = np.percentile(loan_df['annual_inc'], 75,interpolation = 'midpoint')\n",
    "IQR = Q3 - Q1\n",
    " \n",
    "print(\"Old Shape: \", loan_df.shape)\n",
    " \n",
    "# Upper bound\n",
    "upper = np.where(loan_df['annual_inc'] >= (Q3+1.5*IQR))\n",
    "# Lower bound\n",
    "lower = np.where(loan_df['annual_inc'] <= (Q1-1.5*IQR))\n",
    " \n",
    "''' Removing the Outliers '''\n",
    "loan_df.drop(upper[0], inplace = True)\n",
    "loan_df.drop(lower[0], inplace = True)\n",
    "print(\"New Shape: \", loan_df.shape)"
   ]
  },
  {
   "cell_type": "code",
   "execution_count": null,
   "id": "loaded-shadow",
   "metadata": {},
   "outputs": [],
   "source": [
    "sns.set_theme(style=\"whitegrid\")\n",
    "sns.boxplot(loan_df.annual_inc)"
   ]
  },
  {
   "cell_type": "code",
   "execution_count": null,
   "id": "collectible-montgomery",
   "metadata": {},
   "outputs": [],
   "source": [
    "loan_df.loan_amnt.describe()"
   ]
  },
  {
   "cell_type": "code",
   "execution_count": null,
   "id": "revised-american",
   "metadata": {},
   "outputs": [],
   "source": [
    "sns.boxplot(loan_df.loan_amnt)"
   ]
  },
  {
   "cell_type": "code",
   "execution_count": null,
   "id": "reduced-merchant",
   "metadata": {},
   "outputs": [],
   "source": [
    "loan_df.total_pymnt.describe()"
   ]
  },
  {
   "cell_type": "code",
   "execution_count": null,
   "id": "selective-cycling",
   "metadata": {},
   "outputs": [],
   "source": [
    "sns.boxplot(loan_df.total_pymnt)"
   ]
  },
  {
   "cell_type": "code",
   "execution_count": null,
   "id": "designed-circus",
   "metadata": {},
   "outputs": [],
   "source": [
    "loan_df.total_pymnt.describe()"
   ]
  },
  {
   "cell_type": "code",
   "execution_count": null,
   "id": "corporate-federal",
   "metadata": {},
   "outputs": [],
   "source": [
    "sns.boxplot(loan_df.total_pymnt)"
   ]
  },
  {
   "cell_type": "code",
   "execution_count": null,
   "id": "passing-short",
   "metadata": {},
   "outputs": [],
   "source": [
    "loan_df.int_rate.describe()"
   ]
  },
  {
   "cell_type": "code",
   "execution_count": null,
   "id": "incorporated-minnesota",
   "metadata": {},
   "outputs": [],
   "source": [
    "sns.boxplot(loan_df.int_rate)"
   ]
  },
  {
   "cell_type": "code",
   "execution_count": null,
   "id": "continuing-fellowship",
   "metadata": {},
   "outputs": [],
   "source": [
    "loan_df.funded_amnt_inv.describe()"
   ]
  },
  {
   "cell_type": "code",
   "execution_count": null,
   "id": "dominant-namibia",
   "metadata": {
    "scrolled": true
   },
   "outputs": [],
   "source": [
    "sns.boxplot(loan_df.funded_amnt_inv)"
   ]
  },
  {
   "cell_type": "code",
   "execution_count": null,
   "id": "qualified-count",
   "metadata": {},
   "outputs": [],
   "source": [
    "loan_df.dti.describe()"
   ]
  },
  {
   "cell_type": "code",
   "execution_count": null,
   "id": "physical-narrow",
   "metadata": {
    "scrolled": true
   },
   "outputs": [],
   "source": [
    "sns.boxplot(loan_df.dti)"
   ]
  },
  {
   "cell_type": "code",
   "execution_count": null,
   "id": "formed-alexandria",
   "metadata": {
    "scrolled": true
   },
   "outputs": [],
   "source": [
    "loan_df.info()"
   ]
  },
  {
   "cell_type": "markdown",
   "id": "verbal-baker",
   "metadata": {},
   "source": [
    "## Univariate Analysis"
   ]
  },
  {
   "cell_type": "code",
   "execution_count": null,
   "id": "biological-cutting",
   "metadata": {},
   "outputs": [],
   "source": [
    "# Checking correlation  and using heatmap to visualise it.\n",
    "sns.set(rc={'figure.figsize':(10,10)})\n",
    "sns.set_style('darkgrid')\n",
    "# Heatmap\n",
    "sns.heatmap(loan_df.corr())\n",
    "plt.show()"
   ]
  },
  {
   "cell_type": "code",
   "execution_count": null,
   "id": "reasonable-sector",
   "metadata": {
    "scrolled": true
   },
   "outputs": [],
   "source": [
    "sns.set_style(\"darkgrid\")\n",
    "sns.set(font_scale=1.0)\n",
    "sns.clustermap(data=loan_df.corr(), cmap='YlGnBu', figsize=(30,30), annot=True)\n",
    "plt.show()"
   ]
  },
  {
   "cell_type": "markdown",
   "id": "enormous-riverside",
   "metadata": {},
   "source": [
    "Since we know darker the value heigher the correlation , we can clearly see loan_amnt, funded_amnt, unded_amnt_inv and installment have huge correlation. These fields are proportional to each other. Next, the public records related fields pub_rec & pub_rec_bankrupcies and number of accounts related fields open_acc & total_acc are correlated."
   ]
  },
  {
   "cell_type": "markdown",
   "id": "mental-class",
   "metadata": {},
   "source": [
    "## Comparing data wrt loan charged off"
   ]
  },
  {
   "cell_type": "code",
   "execution_count": null,
   "id": "stupid-nelson",
   "metadata": {},
   "outputs": [],
   "source": []
  }
 ],
 "metadata": {
  "kernelspec": {
   "display_name": "Python 3 (ipykernel)",
   "language": "python",
   "name": "python3"
  },
  "language_info": {
   "codemirror_mode": {
    "name": "ipython",
    "version": 3
   },
   "file_extension": ".py",
   "mimetype": "text/x-python",
   "name": "python",
   "nbconvert_exporter": "python",
   "pygments_lexer": "ipython3",
   "version": "3.9.7"
  }
 },
 "nbformat": 4,
 "nbformat_minor": 5
}
